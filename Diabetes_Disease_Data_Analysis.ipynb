{
 "cells": [
  {
   "cell_type": "markdown",
   "id": "c4e04861",
   "metadata": {},
   "source": [
    "<h1><center>Diabetes Disease Data Analysis and Visualization</center></h1>"
   ]
  },
  {
   "cell_type": "markdown",
   "id": "c7786967",
   "metadata": {},
   "source": [
    "<h2>CONTRIBUTORS</h2>\n",
    "    \n",
    "   <b>Vijay Arora</b><br><br><br>"
   ]
  },
  {
   "cell_type": "markdown",
   "id": "894cbba9",
   "metadata": {},
   "source": [
    "<h3><ins>Problem Statement</ins></h3>\n",
    "\n",
    "Diabetes is among the most prevalent chronic diseases in the United States, impacting millions of Americans each year and exerting a significant financial burden on the economy. Diabetes is a serious chronic disease in which individuals lose the ability to effectively regulate levels of glucose in the blood, and can lead to reduced quality of life and life expectancy. Early diagnosis can lead to lifestyle changes and more effective treatment, by analysing and visualising the data we can contribute in the initial steps of making predictive models for diabetes risk important tools for public and public health officials."
   ]
  },
  {
   "cell_type": "markdown",
   "id": "4af02d27",
   "metadata": {},
   "source": [
    "\n",
    "\n",
    "<h2><center>1. Import Libraries/Dataset</center></h2>"
   ]
  },
  {
   "cell_type": "markdown",
   "id": "de54b697",
   "metadata": {},
   "source": [
    "We will be using **Diabetes Health Indicators Dataset** \n",
    "We have downloaded the database and kept it in the local folder. We read the csv file and store it in the data frame named *diabetes_df*"
   ]
  },
  {
   "cell_type": "code",
   "execution_count": 36,
   "id": "98ea99b8",
   "metadata": {},
   "outputs": [],
   "source": [
    "#Importing required libraries\n",
    " \n",
    "import numpy as np\n",
    "from numpy import argmax\n",
    "import pandas as pd\n",
    "import matplotlib.pyplot as plt\n",
    "import seaborn as sns\n",
    "from tabulate import tabulate\n",
    "import statistics as stats\n",
    "from collections import Counter\n",
    "from termcolor import colored\n",
    "\n",
    "import warnings\n",
    "warnings.filterwarnings('ignore')"
   ]
  },
  {
   "cell_type": "code",
   "execution_count": 4,
   "id": "d9c904cc",
   "metadata": {},
   "outputs": [],
   "source": [
    "# Importing the dataset \n",
    "diabetes_df = pd.read_csv(\"diabetes_012_health_indicators_BRFSS2015.csv\")"
   ]
  },
  {
   "cell_type": "code",
   "execution_count": 5,
   "id": "c416e40c",
   "metadata": {},
   "outputs": [
    {
     "data": {
      "text/html": [
       "<div>\n",
       "<style scoped>\n",
       "    .dataframe tbody tr th:only-of-type {\n",
       "        vertical-align: middle;\n",
       "    }\n",
       "\n",
       "    .dataframe tbody tr th {\n",
       "        vertical-align: top;\n",
       "    }\n",
       "\n",
       "    .dataframe thead th {\n",
       "        text-align: right;\n",
       "    }\n",
       "</style>\n",
       "<table border=\"1\" class=\"dataframe\">\n",
       "  <thead>\n",
       "    <tr style=\"text-align: right;\">\n",
       "      <th></th>\n",
       "      <th>Diabetes_012</th>\n",
       "      <th>HighBP</th>\n",
       "      <th>HighChol</th>\n",
       "      <th>CholCheck</th>\n",
       "      <th>BMI</th>\n",
       "      <th>Smoker</th>\n",
       "      <th>Stroke</th>\n",
       "      <th>HeartDiseaseorAttack</th>\n",
       "      <th>PhysActivity</th>\n",
       "      <th>Fruits</th>\n",
       "      <th>...</th>\n",
       "      <th>AnyHealthcare</th>\n",
       "      <th>NoDocbcCost</th>\n",
       "      <th>GenHlth</th>\n",
       "      <th>MentHlth</th>\n",
       "      <th>PhysHlth</th>\n",
       "      <th>DiffWalk</th>\n",
       "      <th>Sex</th>\n",
       "      <th>Age</th>\n",
       "      <th>Education</th>\n",
       "      <th>Income</th>\n",
       "    </tr>\n",
       "  </thead>\n",
       "  <tbody>\n",
       "    <tr>\n",
       "      <th>0</th>\n",
       "      <td>0.0</td>\n",
       "      <td>1.0</td>\n",
       "      <td>1.0</td>\n",
       "      <td>1.0</td>\n",
       "      <td>40.0</td>\n",
       "      <td>1.0</td>\n",
       "      <td>0.0</td>\n",
       "      <td>0.0</td>\n",
       "      <td>0.0</td>\n",
       "      <td>0.0</td>\n",
       "      <td>...</td>\n",
       "      <td>1.0</td>\n",
       "      <td>0.0</td>\n",
       "      <td>5.0</td>\n",
       "      <td>18.0</td>\n",
       "      <td>15.0</td>\n",
       "      <td>1.0</td>\n",
       "      <td>0.0</td>\n",
       "      <td>9.0</td>\n",
       "      <td>4.0</td>\n",
       "      <td>3.0</td>\n",
       "    </tr>\n",
       "    <tr>\n",
       "      <th>1</th>\n",
       "      <td>0.0</td>\n",
       "      <td>0.0</td>\n",
       "      <td>0.0</td>\n",
       "      <td>0.0</td>\n",
       "      <td>25.0</td>\n",
       "      <td>1.0</td>\n",
       "      <td>0.0</td>\n",
       "      <td>0.0</td>\n",
       "      <td>1.0</td>\n",
       "      <td>0.0</td>\n",
       "      <td>...</td>\n",
       "      <td>0.0</td>\n",
       "      <td>1.0</td>\n",
       "      <td>3.0</td>\n",
       "      <td>0.0</td>\n",
       "      <td>0.0</td>\n",
       "      <td>0.0</td>\n",
       "      <td>0.0</td>\n",
       "      <td>7.0</td>\n",
       "      <td>6.0</td>\n",
       "      <td>1.0</td>\n",
       "    </tr>\n",
       "    <tr>\n",
       "      <th>2</th>\n",
       "      <td>0.0</td>\n",
       "      <td>1.0</td>\n",
       "      <td>1.0</td>\n",
       "      <td>1.0</td>\n",
       "      <td>28.0</td>\n",
       "      <td>0.0</td>\n",
       "      <td>0.0</td>\n",
       "      <td>0.0</td>\n",
       "      <td>0.0</td>\n",
       "      <td>1.0</td>\n",
       "      <td>...</td>\n",
       "      <td>1.0</td>\n",
       "      <td>1.0</td>\n",
       "      <td>5.0</td>\n",
       "      <td>30.0</td>\n",
       "      <td>30.0</td>\n",
       "      <td>1.0</td>\n",
       "      <td>0.0</td>\n",
       "      <td>9.0</td>\n",
       "      <td>4.0</td>\n",
       "      <td>8.0</td>\n",
       "    </tr>\n",
       "    <tr>\n",
       "      <th>3</th>\n",
       "      <td>0.0</td>\n",
       "      <td>1.0</td>\n",
       "      <td>0.0</td>\n",
       "      <td>1.0</td>\n",
       "      <td>27.0</td>\n",
       "      <td>0.0</td>\n",
       "      <td>0.0</td>\n",
       "      <td>0.0</td>\n",
       "      <td>1.0</td>\n",
       "      <td>1.0</td>\n",
       "      <td>...</td>\n",
       "      <td>1.0</td>\n",
       "      <td>0.0</td>\n",
       "      <td>2.0</td>\n",
       "      <td>0.0</td>\n",
       "      <td>0.0</td>\n",
       "      <td>0.0</td>\n",
       "      <td>0.0</td>\n",
       "      <td>11.0</td>\n",
       "      <td>3.0</td>\n",
       "      <td>6.0</td>\n",
       "    </tr>\n",
       "    <tr>\n",
       "      <th>4</th>\n",
       "      <td>0.0</td>\n",
       "      <td>1.0</td>\n",
       "      <td>1.0</td>\n",
       "      <td>1.0</td>\n",
       "      <td>24.0</td>\n",
       "      <td>0.0</td>\n",
       "      <td>0.0</td>\n",
       "      <td>0.0</td>\n",
       "      <td>1.0</td>\n",
       "      <td>1.0</td>\n",
       "      <td>...</td>\n",
       "      <td>1.0</td>\n",
       "      <td>0.0</td>\n",
       "      <td>2.0</td>\n",
       "      <td>3.0</td>\n",
       "      <td>0.0</td>\n",
       "      <td>0.0</td>\n",
       "      <td>0.0</td>\n",
       "      <td>11.0</td>\n",
       "      <td>5.0</td>\n",
       "      <td>4.0</td>\n",
       "    </tr>\n",
       "    <tr>\n",
       "      <th>...</th>\n",
       "      <td>...</td>\n",
       "      <td>...</td>\n",
       "      <td>...</td>\n",
       "      <td>...</td>\n",
       "      <td>...</td>\n",
       "      <td>...</td>\n",
       "      <td>...</td>\n",
       "      <td>...</td>\n",
       "      <td>...</td>\n",
       "      <td>...</td>\n",
       "      <td>...</td>\n",
       "      <td>...</td>\n",
       "      <td>...</td>\n",
       "      <td>...</td>\n",
       "      <td>...</td>\n",
       "      <td>...</td>\n",
       "      <td>...</td>\n",
       "      <td>...</td>\n",
       "      <td>...</td>\n",
       "      <td>...</td>\n",
       "      <td>...</td>\n",
       "    </tr>\n",
       "    <tr>\n",
       "      <th>253675</th>\n",
       "      <td>0.0</td>\n",
       "      <td>1.0</td>\n",
       "      <td>1.0</td>\n",
       "      <td>1.0</td>\n",
       "      <td>45.0</td>\n",
       "      <td>0.0</td>\n",
       "      <td>0.0</td>\n",
       "      <td>0.0</td>\n",
       "      <td>0.0</td>\n",
       "      <td>1.0</td>\n",
       "      <td>...</td>\n",
       "      <td>1.0</td>\n",
       "      <td>0.0</td>\n",
       "      <td>3.0</td>\n",
       "      <td>0.0</td>\n",
       "      <td>5.0</td>\n",
       "      <td>0.0</td>\n",
       "      <td>1.0</td>\n",
       "      <td>5.0</td>\n",
       "      <td>6.0</td>\n",
       "      <td>7.0</td>\n",
       "    </tr>\n",
       "    <tr>\n",
       "      <th>253676</th>\n",
       "      <td>2.0</td>\n",
       "      <td>1.0</td>\n",
       "      <td>1.0</td>\n",
       "      <td>1.0</td>\n",
       "      <td>18.0</td>\n",
       "      <td>0.0</td>\n",
       "      <td>0.0</td>\n",
       "      <td>0.0</td>\n",
       "      <td>0.0</td>\n",
       "      <td>0.0</td>\n",
       "      <td>...</td>\n",
       "      <td>1.0</td>\n",
       "      <td>0.0</td>\n",
       "      <td>4.0</td>\n",
       "      <td>0.0</td>\n",
       "      <td>0.0</td>\n",
       "      <td>1.0</td>\n",
       "      <td>0.0</td>\n",
       "      <td>11.0</td>\n",
       "      <td>2.0</td>\n",
       "      <td>4.0</td>\n",
       "    </tr>\n",
       "    <tr>\n",
       "      <th>253677</th>\n",
       "      <td>0.0</td>\n",
       "      <td>0.0</td>\n",
       "      <td>0.0</td>\n",
       "      <td>1.0</td>\n",
       "      <td>28.0</td>\n",
       "      <td>0.0</td>\n",
       "      <td>0.0</td>\n",
       "      <td>0.0</td>\n",
       "      <td>1.0</td>\n",
       "      <td>1.0</td>\n",
       "      <td>...</td>\n",
       "      <td>1.0</td>\n",
       "      <td>0.0</td>\n",
       "      <td>1.0</td>\n",
       "      <td>0.0</td>\n",
       "      <td>0.0</td>\n",
       "      <td>0.0</td>\n",
       "      <td>0.0</td>\n",
       "      <td>2.0</td>\n",
       "      <td>5.0</td>\n",
       "      <td>2.0</td>\n",
       "    </tr>\n",
       "    <tr>\n",
       "      <th>253678</th>\n",
       "      <td>0.0</td>\n",
       "      <td>1.0</td>\n",
       "      <td>0.0</td>\n",
       "      <td>1.0</td>\n",
       "      <td>23.0</td>\n",
       "      <td>0.0</td>\n",
       "      <td>0.0</td>\n",
       "      <td>0.0</td>\n",
       "      <td>0.0</td>\n",
       "      <td>1.0</td>\n",
       "      <td>...</td>\n",
       "      <td>1.0</td>\n",
       "      <td>0.0</td>\n",
       "      <td>3.0</td>\n",
       "      <td>0.0</td>\n",
       "      <td>0.0</td>\n",
       "      <td>0.0</td>\n",
       "      <td>1.0</td>\n",
       "      <td>7.0</td>\n",
       "      <td>5.0</td>\n",
       "      <td>1.0</td>\n",
       "    </tr>\n",
       "    <tr>\n",
       "      <th>253679</th>\n",
       "      <td>2.0</td>\n",
       "      <td>1.0</td>\n",
       "      <td>1.0</td>\n",
       "      <td>1.0</td>\n",
       "      <td>25.0</td>\n",
       "      <td>0.0</td>\n",
       "      <td>0.0</td>\n",
       "      <td>1.0</td>\n",
       "      <td>1.0</td>\n",
       "      <td>1.0</td>\n",
       "      <td>...</td>\n",
       "      <td>1.0</td>\n",
       "      <td>0.0</td>\n",
       "      <td>2.0</td>\n",
       "      <td>0.0</td>\n",
       "      <td>0.0</td>\n",
       "      <td>0.0</td>\n",
       "      <td>0.0</td>\n",
       "      <td>9.0</td>\n",
       "      <td>6.0</td>\n",
       "      <td>2.0</td>\n",
       "    </tr>\n",
       "  </tbody>\n",
       "</table>\n",
       "<p>253680 rows × 22 columns</p>\n",
       "</div>"
      ],
      "text/plain": [
       "        Diabetes_012  HighBP  HighChol  CholCheck   BMI  Smoker  Stroke  \\\n",
       "0                0.0     1.0       1.0        1.0  40.0     1.0     0.0   \n",
       "1                0.0     0.0       0.0        0.0  25.0     1.0     0.0   \n",
       "2                0.0     1.0       1.0        1.0  28.0     0.0     0.0   \n",
       "3                0.0     1.0       0.0        1.0  27.0     0.0     0.0   \n",
       "4                0.0     1.0       1.0        1.0  24.0     0.0     0.0   \n",
       "...              ...     ...       ...        ...   ...     ...     ...   \n",
       "253675           0.0     1.0       1.0        1.0  45.0     0.0     0.0   \n",
       "253676           2.0     1.0       1.0        1.0  18.0     0.0     0.0   \n",
       "253677           0.0     0.0       0.0        1.0  28.0     0.0     0.0   \n",
       "253678           0.0     1.0       0.0        1.0  23.0     0.0     0.0   \n",
       "253679           2.0     1.0       1.0        1.0  25.0     0.0     0.0   \n",
       "\n",
       "        HeartDiseaseorAttack  PhysActivity  Fruits  ...  AnyHealthcare  \\\n",
       "0                        0.0           0.0     0.0  ...            1.0   \n",
       "1                        0.0           1.0     0.0  ...            0.0   \n",
       "2                        0.0           0.0     1.0  ...            1.0   \n",
       "3                        0.0           1.0     1.0  ...            1.0   \n",
       "4                        0.0           1.0     1.0  ...            1.0   \n",
       "...                      ...           ...     ...  ...            ...   \n",
       "253675                   0.0           0.0     1.0  ...            1.0   \n",
       "253676                   0.0           0.0     0.0  ...            1.0   \n",
       "253677                   0.0           1.0     1.0  ...            1.0   \n",
       "253678                   0.0           0.0     1.0  ...            1.0   \n",
       "253679                   1.0           1.0     1.0  ...            1.0   \n",
       "\n",
       "        NoDocbcCost  GenHlth  MentHlth  PhysHlth  DiffWalk  Sex   Age  \\\n",
       "0               0.0      5.0      18.0      15.0       1.0  0.0   9.0   \n",
       "1               1.0      3.0       0.0       0.0       0.0  0.0   7.0   \n",
       "2               1.0      5.0      30.0      30.0       1.0  0.0   9.0   \n",
       "3               0.0      2.0       0.0       0.0       0.0  0.0  11.0   \n",
       "4               0.0      2.0       3.0       0.0       0.0  0.0  11.0   \n",
       "...             ...      ...       ...       ...       ...  ...   ...   \n",
       "253675          0.0      3.0       0.0       5.0       0.0  1.0   5.0   \n",
       "253676          0.0      4.0       0.0       0.0       1.0  0.0  11.0   \n",
       "253677          0.0      1.0       0.0       0.0       0.0  0.0   2.0   \n",
       "253678          0.0      3.0       0.0       0.0       0.0  1.0   7.0   \n",
       "253679          0.0      2.0       0.0       0.0       0.0  0.0   9.0   \n",
       "\n",
       "        Education  Income  \n",
       "0             4.0     3.0  \n",
       "1             6.0     1.0  \n",
       "2             4.0     8.0  \n",
       "3             3.0     6.0  \n",
       "4             5.0     4.0  \n",
       "...           ...     ...  \n",
       "253675        6.0     7.0  \n",
       "253676        2.0     4.0  \n",
       "253677        5.0     2.0  \n",
       "253678        5.0     1.0  \n",
       "253679        6.0     2.0  \n",
       "\n",
       "[253680 rows x 22 columns]"
      ]
     },
     "execution_count": 5,
     "metadata": {},
     "output_type": "execute_result"
    }
   ],
   "source": [
    "diabetes_df"
   ]
  },
  {
   "cell_type": "markdown",
   "id": "96456345",
   "metadata": {},
   "source": [
    "<h2><center><br><br>2 . Data Visualization and Exploration</center></h2>"
   ]
  },
  {
   "cell_type": "markdown",
   "id": "e951935f",
   "metadata": {},
   "source": [
    "<h4><ins>2.1. Print 2 rows for sanity check to identify all the features present in the dataset and if the target matches with them.</ins></h4>\n",
    "\n",
    "     We can achieve this uing head() function of dataframe."
   ]
  },
  {
   "cell_type": "code",
   "execution_count": 6,
   "id": "e93e5115",
   "metadata": {},
   "outputs": [
    {
     "data": {
      "text/html": [
       "<div>\n",
       "<style scoped>\n",
       "    .dataframe tbody tr th:only-of-type {\n",
       "        vertical-align: middle;\n",
       "    }\n",
       "\n",
       "    .dataframe tbody tr th {\n",
       "        vertical-align: top;\n",
       "    }\n",
       "\n",
       "    .dataframe thead th {\n",
       "        text-align: right;\n",
       "    }\n",
       "</style>\n",
       "<table border=\"1\" class=\"dataframe\">\n",
       "  <thead>\n",
       "    <tr style=\"text-align: right;\">\n",
       "      <th></th>\n",
       "      <th>Diabetes_012</th>\n",
       "      <th>HighBP</th>\n",
       "      <th>HighChol</th>\n",
       "      <th>CholCheck</th>\n",
       "      <th>BMI</th>\n",
       "      <th>Smoker</th>\n",
       "      <th>Stroke</th>\n",
       "      <th>HeartDiseaseorAttack</th>\n",
       "      <th>PhysActivity</th>\n",
       "      <th>Fruits</th>\n",
       "      <th>...</th>\n",
       "      <th>AnyHealthcare</th>\n",
       "      <th>NoDocbcCost</th>\n",
       "      <th>GenHlth</th>\n",
       "      <th>MentHlth</th>\n",
       "      <th>PhysHlth</th>\n",
       "      <th>DiffWalk</th>\n",
       "      <th>Sex</th>\n",
       "      <th>Age</th>\n",
       "      <th>Education</th>\n",
       "      <th>Income</th>\n",
       "    </tr>\n",
       "  </thead>\n",
       "  <tbody>\n",
       "    <tr>\n",
       "      <th>0</th>\n",
       "      <td>0.0</td>\n",
       "      <td>1.0</td>\n",
       "      <td>1.0</td>\n",
       "      <td>1.0</td>\n",
       "      <td>40.0</td>\n",
       "      <td>1.0</td>\n",
       "      <td>0.0</td>\n",
       "      <td>0.0</td>\n",
       "      <td>0.0</td>\n",
       "      <td>0.0</td>\n",
       "      <td>...</td>\n",
       "      <td>1.0</td>\n",
       "      <td>0.0</td>\n",
       "      <td>5.0</td>\n",
       "      <td>18.0</td>\n",
       "      <td>15.0</td>\n",
       "      <td>1.0</td>\n",
       "      <td>0.0</td>\n",
       "      <td>9.0</td>\n",
       "      <td>4.0</td>\n",
       "      <td>3.0</td>\n",
       "    </tr>\n",
       "    <tr>\n",
       "      <th>1</th>\n",
       "      <td>0.0</td>\n",
       "      <td>0.0</td>\n",
       "      <td>0.0</td>\n",
       "      <td>0.0</td>\n",
       "      <td>25.0</td>\n",
       "      <td>1.0</td>\n",
       "      <td>0.0</td>\n",
       "      <td>0.0</td>\n",
       "      <td>1.0</td>\n",
       "      <td>0.0</td>\n",
       "      <td>...</td>\n",
       "      <td>0.0</td>\n",
       "      <td>1.0</td>\n",
       "      <td>3.0</td>\n",
       "      <td>0.0</td>\n",
       "      <td>0.0</td>\n",
       "      <td>0.0</td>\n",
       "      <td>0.0</td>\n",
       "      <td>7.0</td>\n",
       "      <td>6.0</td>\n",
       "      <td>1.0</td>\n",
       "    </tr>\n",
       "  </tbody>\n",
       "</table>\n",
       "<p>2 rows × 22 columns</p>\n",
       "</div>"
      ],
      "text/plain": [
       "   Diabetes_012  HighBP  HighChol  CholCheck   BMI  Smoker  Stroke  \\\n",
       "0           0.0     1.0       1.0        1.0  40.0     1.0     0.0   \n",
       "1           0.0     0.0       0.0        0.0  25.0     1.0     0.0   \n",
       "\n",
       "   HeartDiseaseorAttack  PhysActivity  Fruits  ...  AnyHealthcare  \\\n",
       "0                   0.0           0.0     0.0  ...            1.0   \n",
       "1                   0.0           1.0     0.0  ...            0.0   \n",
       "\n",
       "   NoDocbcCost  GenHlth  MentHlth  PhysHlth  DiffWalk  Sex  Age  Education  \\\n",
       "0          0.0      5.0      18.0      15.0       1.0  0.0  9.0        4.0   \n",
       "1          1.0      3.0       0.0       0.0       0.0  0.0  7.0        6.0   \n",
       "\n",
       "   Income  \n",
       "0     3.0  \n",
       "1     1.0  \n",
       "\n",
       "[2 rows x 22 columns]"
      ]
     },
     "execution_count": 6,
     "metadata": {},
     "output_type": "execute_result"
    }
   ],
   "source": [
    "diabetes_df.head(2)"
   ]
  },
  {
   "cell_type": "markdown",
   "id": "ed877a68",
   "metadata": {},
   "source": [
    "<h4><br><ins>2.2. Comment on class imbalance with appropriate visualization method</ins></h4>\n",
    "\n",
    "**Analysis** : We will be using both statistical as well as graphical measures to check for class imbalance in the data. For better understanding , we have mapped the INTERGER values to the corressponsing STRING values as per the given data description. \n",
    "\n",
    "    0 -> No Diabetes\n",
    "    1 -> Prediabetes\n",
    "    2 -> Diabetes\n",
    "    \n",
    " Further more we try to check for the value counts for each of the values in \"Diabetes_012\" coulumn. From the analysis we observe that we have total of 253680 data points, out of which 213703 are with \"No Diabetes\" , 35346 are with \"Diabetes\" and only 4631 are in \"Prediabetes\". If we look at the percentage of distribution, we have 84.24% cases with no diabetes, 13.93% with diabetes and 1.83% with prediabetes. <ins>This goes on to show that the data is highly imabalanced, leaning towards cases with \"No Diabetes\".</ins>\n",
    " \n",
    "The same stats have also been shown graphically using countplot of seaborn library. \n",
    "\n",
    "<ins><b>We will use data balancing techniques later on to handle the class imbalance. We have various options to use RandomSampler or SMOTE</b></ins>"
   ]
  },
  {
   "cell_type": "code",
   "execution_count": 7,
   "id": "313cc9c4",
   "metadata": {},
   "outputs": [
    {
     "name": "stdout",
     "output_type": "stream",
     "text": [
      "The Class Imbalance in the dataset is given below\n",
      "\n",
      "\n",
      "In terms of counts\n",
      "    No Diabetes    :  213703\n",
      "    Prediabetes    :  4631\n",
      "    Diabetes       :  35346\n",
      "\n",
      "In terms of percetage\n",
      "    No Diabetes    : 84.24 %\n",
      "    Prediabetes    : 1.83 %\n",
      "    Diabetes       : 13.93 %\n",
      "\n",
      "\n",
      "COUNT PLOT\n"
     ]
    },
    {
     "data": {
      "image/png": "[encoded data removed]",
      "text/plain": [
       "<Figure size 432x288 with 1 Axes>"
      ]
     },
     "metadata": {
      "needs_background": "light"
     },
     "output_type": "display_data"
    }
   ],
   "source": [
    "#Renaming Diabetes type from int to string for better consistency\n",
    "diabetes_df['Diabetes_class'] = diabetes_df['Diabetes_012'].replace({0.0:'No Diabetes', 1.0:'prediabetes ', 2.0:'diabetes'})\n",
    "\n",
    "# Finding the count of each class label\n",
    "no_diabetes_cnt = len(diabetes_df[diabetes_df.Diabetes_012 == 0])\n",
    "pre_diabetes_cnt = len(diabetes_df[diabetes_df.Diabetes_012 == 1])\n",
    "diabetes_cnt = len(diabetes_df[diabetes_df.Diabetes_012 == 2])\n",
    "\n",
    "print('The Class Imbalance in the dataset is given below\\n')\n",
    "\n",
    "print(\"\\nIn terms of counts\")\n",
    "print(\"    No Diabetes    : \",no_diabetes_cnt)\n",
    "print(\"    Prediabetes    : \", pre_diabetes_cnt)\n",
    "print(\"    Diabetes       : \",diabetes_cnt )\n",
    "\n",
    "print(\"\\nIn terms of percetage\")\n",
    "total_cnt = len(diabetes_df.Diabetes_012)\n",
    "print(\"    No Diabetes    : {:.2f} %\".format((no_diabetes_cnt / (total_cnt)*100)))\n",
    "print(\"    Prediabetes    : {:.2f} %\".format((pre_diabetes_cnt / (total_cnt)*100)))\n",
    "print(\"    Diabetes       : {:.2f} %\".format((diabetes_cnt / (total_cnt)*100)))\n",
    "\n",
    "print(\"\\n\\nCOUNT PLOT\")\n",
    "# countplot\n",
    "sns.countplot(x ='Diabetes_012', data = diabetes_df)\n",
    "plt.show()\n"
   ]
  },
  {
   "cell_type": "markdown",
   "id": "32b0f09f",
   "metadata": {},
   "source": [
    "\n",
    "<h4><br><ins><br>2.3. Provide appropriate data visualizations to get an insight about the dataset.</ins></h4>"
   ]
  },
  {
   "cell_type": "code",
   "execution_count": 8,
   "id": "24600b36",
   "metadata": {},
   "outputs": [
    {
     "name": "stdout",
     "output_type": "stream",
     "text": [
      "<class 'pandas.core.frame.DataFrame'>\n",
      "RangeIndex: 253680 entries, 0 to 253679\n",
      "Data columns (total 23 columns):\n",
      " #   Column                Non-Null Count   Dtype  \n",
      "---  ------                --------------   -----  \n",
      " 0   Diabetes_012          253680 non-null  float64\n",
      " 1   HighBP                253680 non-null  float64\n",
      " 2   HighChol              253680 non-null  float64\n",
      " 3   CholCheck             253680 non-null  float64\n",
      " 4   BMI                   253680 non-null  float64\n",
      " 5   Smoker                253680 non-null  float64\n",
      " 6   Stroke                253680 non-null  float64\n",
      " 7   HeartDiseaseorAttack  253680 non-null  float64\n",
      " 8   PhysActivity          253680 non-null  float64\n",
      " 9   Fruits                253680 non-null  float64\n",
      " 10  Veggies               253680 non-null  float64\n",
      " 11  HvyAlcoholConsump     253680 non-null  float64\n",
      " 12  AnyHealthcare         253680 non-null  float64\n",
      " 13  NoDocbcCost           253680 non-null  float64\n",
      " 14  GenHlth               253680 non-null  float64\n",
      " 15  MentHlth              253680 non-null  float64\n",
      " 16  PhysHlth              253680 non-null  float64\n",
      " 17  DiffWalk              253680 non-null  float64\n",
      " 18  Sex                   253680 non-null  float64\n",
      " 19  Age                   253680 non-null  float64\n",
      " 20  Education             253680 non-null  float64\n",
      " 21  Income                253680 non-null  float64\n",
      " 22  Diabetes_class        253680 non-null  object \n",
      "dtypes: float64(22), object(1)\n",
      "memory usage: 44.5+ MB\n"
     ]
    }
   ],
   "source": [
    "# First we will try to find out the basic info about the data.\n",
    "# This will provide us with info on each column(feature) in the dataset .\n",
    "# Also, we can get insights into the null values in the data as well as its datatype.\n",
    "\n",
    "diabetes_df.info()"
   ]
  },
  {
   "cell_type": "markdown",
   "id": "22aa6cd7",
   "metadata": {},
   "source": [
    "Here we see that we have 253680 data points. With 21 features (of type float) and 1 class (Diabetes_012) variable"
   ]
  },
  {
   "cell_type": "code",
   "execution_count": 9,
   "id": "250d8566",
   "metadata": {},
   "outputs": [
    {
     "data": {
      "text/html": [
       "<div>\n",
       "<style scoped>\n",
       "    .dataframe tbody tr th:only-of-type {\n",
       "        vertical-align: middle;\n",
       "    }\n",
       "\n",
       "    .dataframe tbody tr th {\n",
       "        vertical-align: top;\n",
       "    }\n",
       "\n",
       "    .dataframe thead th {\n",
       "        text-align: right;\n",
       "    }\n",
       "</style>\n",
       "<table border=\"1\" class=\"dataframe\">\n",
       "  <thead>\n",
       "    <tr style=\"text-align: right;\">\n",
       "      <th></th>\n",
       "      <th>count</th>\n",
       "      <th>mean</th>\n",
       "      <th>std</th>\n",
       "      <th>min</th>\n",
       "      <th>25%</th>\n",
       "      <th>50%</th>\n",
       "      <th>75%</th>\n",
       "      <th>max</th>\n",
       "    </tr>\n",
       "  </thead>\n",
       "  <tbody>\n",
       "    <tr>\n",
       "      <th>Diabetes_012</th>\n",
       "      <td>253680.0</td>\n",
       "      <td>0.296921</td>\n",
       "      <td>0.698160</td>\n",
       "      <td>0.0</td>\n",
       "      <td>0.0</td>\n",
       "      <td>0.0</td>\n",
       "      <td>0.0</td>\n",
       "      <td>2.0</td>\n",
       "    </tr>\n",
       "    <tr>\n",
       "      <th>HighBP</th>\n",
       "      <td>253680.0</td>\n",
       "      <td>0.429001</td>\n",
       "      <td>0.494934</td>\n",
       "      <td>0.0</td>\n",
       "      <td>0.0</td>\n",
       "      <td>0.0</td>\n",
       "      <td>1.0</td>\n",
       "      <td>1.0</td>\n",
       "    </tr>\n",
       "    <tr>\n",
       "      <th>HighChol</th>\n",
       "      <td>253680.0</td>\n",
       "      <td>0.424121</td>\n",
       "      <td>0.494210</td>\n",
       "      <td>0.0</td>\n",
       "      <td>0.0</td>\n",
       "      <td>0.0</td>\n",
       "      <td>1.0</td>\n",
       "      <td>1.0</td>\n",
       "    </tr>\n",
       "    <tr>\n",
       "      <th>CholCheck</th>\n",
       "      <td>253680.0</td>\n",
       "      <td>0.962670</td>\n",
       "      <td>0.189571</td>\n",
       "      <td>0.0</td>\n",
       "      <td>1.0</td>\n",
       "      <td>1.0</td>\n",
       "      <td>1.0</td>\n",
       "      <td>1.0</td>\n",
       "    </tr>\n",
       "    <tr>\n",
       "      <th>BMI</th>\n",
       "      <td>253680.0</td>\n",
       "      <td>28.382364</td>\n",
       "      <td>6.608694</td>\n",
       "      <td>12.0</td>\n",
       "      <td>24.0</td>\n",
       "      <td>27.0</td>\n",
       "      <td>31.0</td>\n",
       "      <td>98.0</td>\n",
       "    </tr>\n",
       "    <tr>\n",
       "      <th>Smoker</th>\n",
       "      <td>253680.0</td>\n",
       "      <td>0.443169</td>\n",
       "      <td>0.496761</td>\n",
       "      <td>0.0</td>\n",
       "      <td>0.0</td>\n",
       "      <td>0.0</td>\n",
       "      <td>1.0</td>\n",
       "      <td>1.0</td>\n",
       "    </tr>\n",
       "    <tr>\n",
       "      <th>Stroke</th>\n",
       "      <td>253680.0</td>\n",
       "      <td>0.040571</td>\n",
       "      <td>0.197294</td>\n",
       "      <td>0.0</td>\n",
       "      <td>0.0</td>\n",
       "      <td>0.0</td>\n",
       "      <td>0.0</td>\n",
       "      <td>1.0</td>\n",
       "    </tr>\n",
       "    <tr>\n",
       "      <th>HeartDiseaseorAttack</th>\n",
       "      <td>253680.0</td>\n",
       "      <td>0.094186</td>\n",
       "      <td>0.292087</td>\n",
       "      <td>0.0</td>\n",
       "      <td>0.0</td>\n",
       "      <td>0.0</td>\n",
       "      <td>0.0</td>\n",
       "      <td>1.0</td>\n",
       "    </tr>\n",
       "    <tr>\n",
       "      <th>PhysActivity</th>\n",
       "      <td>253680.0</td>\n",
       "      <td>0.756544</td>\n",
       "      <td>0.429169</td>\n",
       "      <td>0.0</td>\n",
       "      <td>1.0</td>\n",
       "      <td>1.0</td>\n",
       "      <td>1.0</td>\n",
       "      <td>1.0</td>\n",
       "    </tr>\n",
       "    <tr>\n",
       "      <th>Fruits</th>\n",
       "      <td>253680.0</td>\n",
       "      <td>0.634256</td>\n",
       "      <td>0.481639</td>\n",
       "      <td>0.0</td>\n",
       "      <td>0.0</td>\n",
       "      <td>1.0</td>\n",
       "      <td>1.0</td>\n",
       "      <td>1.0</td>\n",
       "    </tr>\n",
       "    <tr>\n",
       "      <th>Veggies</th>\n",
       "      <td>253680.0</td>\n",
       "      <td>0.811420</td>\n",
       "      <td>0.391175</td>\n",
       "      <td>0.0</td>\n",
       "      <td>1.0</td>\n",
       "      <td>1.0</td>\n",
       "      <td>1.0</td>\n",
       "      <td>1.0</td>\n",
       "    </tr>\n",
       "    <tr>\n",
       "      <th>HvyAlcoholConsump</th>\n",
       "      <td>253680.0</td>\n",
       "      <td>0.056197</td>\n",
       "      <td>0.230302</td>\n",
       "      <td>0.0</td>\n",
       "      <td>0.0</td>\n",
       "      <td>0.0</td>\n",
       "      <td>0.0</td>\n",
       "      <td>1.0</td>\n",
       "    </tr>\n",
       "    <tr>\n",
       "      <th>AnyHealthcare</th>\n",
       "      <td>253680.0</td>\n",
       "      <td>0.951053</td>\n",
       "      <td>0.215759</td>\n",
       "      <td>0.0</td>\n",
       "      <td>1.0</td>\n",
       "      <td>1.0</td>\n",
       "      <td>1.0</td>\n",
       "      <td>1.0</td>\n",
       "    </tr>\n",
       "    <tr>\n",
       "      <th>NoDocbcCost</th>\n",
       "      <td>253680.0</td>\n",
       "      <td>0.084177</td>\n",
       "      <td>0.277654</td>\n",
       "      <td>0.0</td>\n",
       "      <td>0.0</td>\n",
       "      <td>0.0</td>\n",
       "      <td>0.0</td>\n",
       "      <td>1.0</td>\n",
       "    </tr>\n",
       "    <tr>\n",
       "      <th>GenHlth</th>\n",
       "      <td>253680.0</td>\n",
       "      <td>2.511392</td>\n",
       "      <td>1.068477</td>\n",
       "      <td>1.0</td>\n",
       "      <td>2.0</td>\n",
       "      <td>2.0</td>\n",
       "      <td>3.0</td>\n",
       "      <td>5.0</td>\n",
       "    </tr>\n",
       "    <tr>\n",
       "      <th>MentHlth</th>\n",
       "      <td>253680.0</td>\n",
       "      <td>3.184772</td>\n",
       "      <td>7.412847</td>\n",
       "      <td>0.0</td>\n",
       "      <td>0.0</td>\n",
       "      <td>0.0</td>\n",
       "      <td>2.0</td>\n",
       "      <td>30.0</td>\n",
       "    </tr>\n",
       "    <tr>\n",
       "      <th>PhysHlth</th>\n",
       "      <td>253680.0</td>\n",
       "      <td>4.242081</td>\n",
       "      <td>8.717951</td>\n",
       "      <td>0.0</td>\n",
       "      <td>0.0</td>\n",
       "      <td>0.0</td>\n",
       "      <td>3.0</td>\n",
       "      <td>30.0</td>\n",
       "    </tr>\n",
       "    <tr>\n",
       "      <th>DiffWalk</th>\n",
       "      <td>253680.0</td>\n",
       "      <td>0.168224</td>\n",
       "      <td>0.374066</td>\n",
       "      <td>0.0</td>\n",
       "      <td>0.0</td>\n",
       "      <td>0.0</td>\n",
       "      <td>0.0</td>\n",
       "      <td>1.0</td>\n",
       "    </tr>\n",
       "    <tr>\n",
       "      <th>Sex</th>\n",
       "      <td>253680.0</td>\n",
       "      <td>0.440342</td>\n",
       "      <td>0.496429</td>\n",
       "      <td>0.0</td>\n",
       "      <td>0.0</td>\n",
       "      <td>0.0</td>\n",
       "      <td>1.0</td>\n",
       "      <td>1.0</td>\n",
       "    </tr>\n",
       "    <tr>\n",
       "      <th>Age</th>\n",
       "      <td>253680.0</td>\n",
       "      <td>8.032119</td>\n",
       "      <td>3.054220</td>\n",
       "      <td>1.0</td>\n",
       "      <td>6.0</td>\n",
       "      <td>8.0</td>\n",
       "      <td>10.0</td>\n",
       "      <td>13.0</td>\n",
       "    </tr>\n",
       "    <tr>\n",
       "      <th>Education</th>\n",
       "      <td>253680.0</td>\n",
       "      <td>5.050434</td>\n",
       "      <td>0.985774</td>\n",
       "      <td>1.0</td>\n",
       "      <td>4.0</td>\n",
       "      <td>5.0</td>\n",
       "      <td>6.0</td>\n",
       "      <td>6.0</td>\n",
       "    </tr>\n",
       "    <tr>\n",
       "      <th>Income</th>\n",
       "      <td>253680.0</td>\n",
       "      <td>6.053875</td>\n",
       "      <td>2.071148</td>\n",
       "      <td>1.0</td>\n",
       "      <td>5.0</td>\n",
       "      <td>7.0</td>\n",
       "      <td>8.0</td>\n",
       "      <td>8.0</td>\n",
       "    </tr>\n",
       "  </tbody>\n",
       "</table>\n",
       "</div>"
      ],
      "text/plain": [
       "                         count       mean       std   min   25%   50%   75%  \\\n",
       "Diabetes_012          253680.0   0.296921  0.698160   0.0   0.0   0.0   0.0   \n",
       "HighBP                253680.0   0.429001  0.494934   0.0   0.0   0.0   1.0   \n",
       "HighChol              253680.0   0.424121  0.494210   0.0   0.0   0.0   1.0   \n",
       "CholCheck             253680.0   0.962670  0.189571   0.0   1.0   1.0   1.0   \n",
       "BMI                   253680.0  28.382364  6.608694  12.0  24.0  27.0  31.0   \n",
       "Smoker                253680.0   0.443169  0.496761   0.0   0.0   0.0   1.0   \n",
       "Stroke                253680.0   0.040571  0.197294   0.0   0.0   0.0   0.0   \n",
       "HeartDiseaseorAttack  253680.0   0.094186  0.292087   0.0   0.0   0.0   0.0   \n",
       "PhysActivity          253680.0   0.756544  0.429169   0.0   1.0   1.0   1.0   \n",
       "Fruits                253680.0   0.634256  0.481639   0.0   0.0   1.0   1.0   \n",
       "Veggies               253680.0   0.811420  0.391175   0.0   1.0   1.0   1.0   \n",
       "HvyAlcoholConsump     253680.0   0.056197  0.230302   0.0   0.0   0.0   0.0   \n",
       "AnyHealthcare         253680.0   0.951053  0.215759   0.0   1.0   1.0   1.0   \n",
       "NoDocbcCost           253680.0   0.084177  0.277654   0.0   0.0   0.0   0.0   \n",
       "GenHlth               253680.0   2.511392  1.068477   1.0   2.0   2.0   3.0   \n",
       "MentHlth              253680.0   3.184772  7.412847   0.0   0.0   0.0   2.0   \n",
       "PhysHlth              253680.0   4.242081  8.717951   0.0   0.0   0.0   3.0   \n",
       "DiffWalk              253680.0   0.168224  0.374066   0.0   0.0   0.0   0.0   \n",
       "Sex                   253680.0   0.440342  0.496429   0.0   0.0   0.0   1.0   \n",
       "Age                   253680.0   8.032119  3.054220   1.0   6.0   8.0  10.0   \n",
       "Education             253680.0   5.050434  0.985774   1.0   4.0   5.0   6.0   \n",
       "Income                253680.0   6.053875  2.071148   1.0   5.0   7.0   8.0   \n",
       "\n",
       "                       max  \n",
       "Diabetes_012           2.0  \n",
       "HighBP                 1.0  \n",
       "HighChol               1.0  \n",
       "CholCheck              1.0  \n",
       "BMI                   98.0  \n",
       "Smoker                 1.0  \n",
       "Stroke                 1.0  \n",
       "HeartDiseaseorAttack   1.0  \n",
       "PhysActivity           1.0  \n",
       "Fruits                 1.0  \n",
       "Veggies                1.0  \n",
       "HvyAlcoholConsump      1.0  \n",
       "AnyHealthcare          1.0  \n",
       "NoDocbcCost            1.0  \n",
       "GenHlth                5.0  \n",
       "MentHlth              30.0  \n",
       "PhysHlth              30.0  \n",
       "DiffWalk               1.0  \n",
       "Sex                    1.0  \n",
       "Age                   13.0  \n",
       "Education              6.0  \n",
       "Income                 8.0  "
      ]
     },
     "execution_count": 9,
     "metadata": {},
     "output_type": "execute_result"
    }
   ],
   "source": [
    "# We will try to describe the data, which will give is five number summary\n",
    "diabetes_df.describe().T"
   ]
  },
  {
   "cell_type": "markdown",
   "id": "84b68029",
   "metadata": {},
   "source": [
    "<ins>Observation:</ins> Here we can see that all the features , except BMI seems to have dicreete values (Categorical data). BMI seems to have a continuous data ranging between 12 to 98."
   ]
  },
  {
   "cell_type": "code",
   "execution_count": 10,
   "id": "086e2192",
   "metadata": {
    "scrolled": true
   },
   "outputs": [
    {
     "name": "stdout",
     "output_type": "stream",
     "text": [
      "0.0    213703\n",
      "2.0     35346\n",
      "1.0      4631\n",
      "Name: Diabetes_012, dtype: int64\n",
      "\n",
      "\n",
      "0.0    144851\n",
      "1.0    108829\n",
      "Name: HighBP, dtype: int64\n",
      "\n",
      "\n",
      "0.0    146089\n",
      "1.0    107591\n",
      "Name: HighChol, dtype: int64\n",
      "\n",
      "\n",
      "1.0    244210\n",
      "0.0      9470\n",
      "Name: CholCheck, dtype: int64\n",
      "\n",
      "\n",
      "27.0    24606\n",
      "26.0    20562\n",
      "24.0    19550\n",
      "25.0    17146\n",
      "28.0    16545\n",
      "        ...  \n",
      "85.0        1\n",
      "91.0        1\n",
      "86.0        1\n",
      "90.0        1\n",
      "78.0        1\n",
      "Name: BMI, Length: 84, dtype: int64\n",
      "\n",
      "\n",
      "0.0    141257\n",
      "1.0    112423\n",
      "Name: Smoker, dtype: int64\n",
      "\n",
      "\n",
      "0.0    243388\n",
      "1.0     10292\n",
      "Name: Stroke, dtype: int64\n",
      "\n",
      "\n",
      "0.0    229787\n",
      "1.0     23893\n",
      "Name: HeartDiseaseorAttack, dtype: int64\n",
      "\n",
      "\n",
      "1.0    191920\n",
      "0.0     61760\n",
      "Name: PhysActivity, dtype: int64\n",
      "\n",
      "\n",
      "1.0    160898\n",
      "0.0     92782\n",
      "Name: Fruits, dtype: int64\n",
      "\n",
      "\n",
      "1.0    205841\n",
      "0.0     47839\n",
      "Name: Veggies, dtype: int64\n",
      "\n",
      "\n",
      "0.0    239424\n",
      "1.0     14256\n",
      "Name: HvyAlcoholConsump, dtype: int64\n",
      "\n",
      "\n",
      "1.0    241263\n",
      "0.0     12417\n",
      "Name: AnyHealthcare, dtype: int64\n",
      "\n",
      "\n",
      "0.0    232326\n",
      "1.0     21354\n",
      "Name: NoDocbcCost, dtype: int64\n",
      "\n",
      "\n",
      "2.0    89084\n",
      "3.0    75646\n",
      "1.0    45299\n",
      "4.0    31570\n",
      "5.0    12081\n",
      "Name: GenHlth, dtype: int64\n",
      "\n",
      "\n",
      "0.0     175680\n",
      "2.0      13054\n",
      "30.0     12088\n",
      "5.0       9030\n",
      "1.0       8538\n",
      "3.0       7381\n",
      "10.0      6373\n",
      "15.0      5505\n",
      "4.0       3789\n",
      "20.0      3364\n",
      "7.0       3100\n",
      "25.0      1188\n",
      "14.0      1167\n",
      "6.0        988\n",
      "8.0        639\n",
      "12.0       398\n",
      "28.0       327\n",
      "21.0       227\n",
      "29.0       158\n",
      "18.0        97\n",
      "9.0         91\n",
      "16.0        88\n",
      "27.0        79\n",
      "22.0        63\n",
      "17.0        54\n",
      "26.0        45\n",
      "11.0        41\n",
      "13.0        41\n",
      "23.0        38\n",
      "24.0        33\n",
      "19.0        16\n",
      "Name: MentHlth, dtype: int64\n",
      "\n",
      "\n",
      "0.0     160052\n",
      "30.0     19400\n",
      "2.0      14764\n",
      "1.0      11388\n",
      "3.0       8495\n",
      "5.0       7622\n",
      "10.0      5595\n",
      "15.0      4916\n",
      "4.0       4542\n",
      "7.0       4538\n",
      "20.0      3273\n",
      "14.0      2587\n",
      "25.0      1336\n",
      "6.0       1330\n",
      "8.0        809\n",
      "21.0       663\n",
      "12.0       578\n",
      "28.0       522\n",
      "29.0       215\n",
      "9.0        179\n",
      "18.0       152\n",
      "16.0       112\n",
      "27.0        99\n",
      "17.0        96\n",
      "24.0        72\n",
      "22.0        70\n",
      "26.0        69\n",
      "13.0        68\n",
      "11.0        60\n",
      "23.0        56\n",
      "19.0        22\n",
      "Name: PhysHlth, dtype: int64\n",
      "\n",
      "\n",
      "0.0    211005\n",
      "1.0     42675\n",
      "Name: DiffWalk, dtype: int64\n",
      "\n",
      "\n",
      "0.0    141974\n",
      "1.0    111706\n",
      "Name: Sex, dtype: int64\n",
      "\n",
      "\n",
      "9.0     33244\n",
      "10.0    32194\n",
      "8.0     30832\n",
      "7.0     26314\n",
      "11.0    23533\n",
      "6.0     19819\n",
      "13.0    17363\n",
      "5.0     16157\n",
      "12.0    15980\n",
      "4.0     13823\n",
      "3.0     11123\n",
      "2.0      7598\n",
      "1.0      5700\n",
      "Name: Age, dtype: int64\n",
      "\n",
      "\n",
      "6.0    107325\n",
      "5.0     69910\n",
      "4.0     62750\n",
      "3.0      9478\n",
      "2.0      4043\n",
      "1.0       174\n",
      "Name: Education, dtype: int64\n",
      "\n",
      "\n",
      "8.0    90385\n",
      "7.0    43219\n",
      "6.0    36470\n",
      "5.0    25883\n",
      "4.0    20135\n",
      "3.0    15994\n",
      "2.0    11783\n",
      "1.0     9811\n",
      "Name: Income, dtype: int64\n",
      "\n",
      "\n",
      "No Diabetes     213703\n",
      "diabetes         35346\n",
      "prediabetes       4631\n",
      "Name: Diabetes_class, dtype: int64\n",
      "\n",
      "\n"
     ]
    }
   ],
   "source": [
    "for cols in diabetes_df.columns:\n",
    "    print(diabetes_df[cols].value_counts())\n",
    "    print(\"\\n\")"
   ]
  },
  {
   "cell_type": "markdown",
   "id": "6b1b2fdf",
   "metadata": {},
   "source": [
    "From the above data, we can cleary confirm that only continous data is \"BMI\". Apart from that all are discreet data.<br><br>"
   ]
  },
  {
   "cell_type": "code",
   "execution_count": 11,
   "id": "f4bc7a7d",
   "metadata": {},
   "outputs": [
    {
     "name": "stdout",
     "output_type": "stream",
     "text": [
      "\n",
      "\n",
      "Tabular representation:\n",
      "\n",
      "Diabetes_class  No Diabetes  diabetes  prediabetes \n",
      "HighBP                                             \n",
      "0.0                  134391      8742          1718\n",
      "1.0                   79312     26604          2913\n",
      "\n",
      "\n",
      " Graphical representation:\n"
     ]
    },
    {
     "data": {
      "image/png": "[encoded data removed]",
      "text/plain": [
       "<Figure size 360x288 with 1 Axes>"
      ]
     },
     "metadata": {
      "needs_background": "light"
     },
     "output_type": "display_data"
    }
   ],
   "source": [
    "# Relation between HighBP and Diabetes_012\n",
    "print(\"\\n\\nTabular representation:\\n\")\n",
    "table_values = pd.crosstab(diabetes_df.HighBP,diabetes_df.Diabetes_class)\n",
    "print(table_values)\n",
    "print(\"\\n\\n Graphical representation:\")\n",
    "table_values.plot(kind=\"bar\",figsize=(5,4))\n",
    "plt.title('Diabetes Disease Frequency for HighBP')\n",
    "plt.xlabel(\"HighBP\")\n",
    "plt.ylabel('Frequency')\n",
    "plt.show()"
   ]
  },
  {
   "cell_type": "code",
   "execution_count": 12,
   "id": "012b7646",
   "metadata": {},
   "outputs": [
    {
     "name": "stdout",
     "output_type": "stream",
     "text": [
      "\n",
      "\n",
      "Tabular representation:\n",
      "\n",
      "Diabetes_class  No Diabetes  diabetes  prediabetes \n",
      "HighChol                                           \n",
      "0.0                  132673     11660          1756\n",
      "1.0                   81030     23686          2875\n",
      "\n",
      "\n",
      " Graphical representation:\n"
     ]
    },
    {
     "data": {
      "image/png": "[encoded data removed]",
      "text/plain": [
       "<Figure size 360x288 with 1 Axes>"
      ]
     },
     "metadata": {
      "needs_background": "light"
     },
     "output_type": "display_data"
    }
   ],
   "source": [
    "# Relation between HighChol and Diabetes_012\n",
    "print(\"\\n\\nTabular representation:\\n\")\n",
    "table_values = pd.crosstab(diabetes_df.HighChol,diabetes_df.Diabetes_class)\n",
    "print(table_values)\n",
    "print(\"\\n\\n Graphical representation:\")\n",
    "table_values.plot(kind=\"bar\",figsize=(5,4))\n",
    "plt.title('Diabetes Disease Frequency for HighChol')\n",
    "plt.xlabel(\"HighChol\")\n",
    "plt.ylabel('Frequency')\n",
    "plt.show()"
   ]
  },
  {
   "cell_type": "code",
   "execution_count": 13,
   "id": "10a96a0c",
   "metadata": {},
   "outputs": [
    {
     "name": "stdout",
     "output_type": "stream",
     "text": [
      "\n",
      "\n",
      "Tabular representation:\n",
      "\n",
      "Diabetes_class  No Diabetes  diabetes  prediabetes \n",
      "HighChol                                           \n",
      "0.0                  132673     11660          1756\n",
      "1.0                   81030     23686          2875\n",
      "\n",
      "\n",
      " Graphical representation:\n"
     ]
    },
    {
     "data": {
      "image/png": "[encoded data removed]",
      "text/plain": [
       "<Figure size 360x288 with 1 Axes>"
      ]
     },
     "metadata": {
      "needs_background": "light"
     },
     "output_type": "display_data"
    }
   ],
   "source": [
    "# Relation between HighChol and Diabetes_012\n",
    "print(\"\\n\\nTabular representation:\\n\")\n",
    "table_values = pd.crosstab(diabetes_df.HighChol,diabetes_df.Diabetes_class)\n",
    "print(table_values)\n",
    "print(\"\\n\\n Graphical representation:\")\n",
    "table_values.plot(kind=\"bar\",figsize=(5,4))\n",
    "plt.title('Diabetes Disease Frequency for HighChol')\n",
    "plt.xlabel(\"HighChol\")\n",
    "plt.ylabel('Frequency')\n",
    "plt.show()"
   ]
  },
  {
   "cell_type": "code",
   "execution_count": 14,
   "id": "7cc492c9",
   "metadata": {},
   "outputs": [
    {
     "name": "stdout",
     "output_type": "stream",
     "text": [
      "\n",
      "\n",
      "Tabular representation:\n",
      "\n",
      "Diabetes_class  No Diabetes  diabetes  prediabetes \n",
      "CholCheck                                          \n",
      "0.0                    9167       241            62\n",
      "1.0                  204536     35105          4569\n",
      "\n",
      "\n",
      " Graphical representation:\n"
     ]
    },
    {
     "data": {
      "image/png": "[encoded data removed]",
      "text/plain": [
       "<Figure size 360x288 with 1 Axes>"
      ]
     },
     "metadata": {
      "needs_background": "light"
     },
     "output_type": "display_data"
    }
   ],
   "source": [
    "# Relation between CholCheck and Diabetes_012\n",
    "print(\"\\n\\nTabular representation:\\n\")\n",
    "table_values = pd.crosstab(diabetes_df.CholCheck,diabetes_df.Diabetes_class)\n",
    "print(table_values)\n",
    "print(\"\\n\\n Graphical representation:\")\n",
    "table_values.plot(kind=\"bar\",figsize=(5,4))\n",
    "plt.title('Diabetes Disease Frequency for CholCheck')\n",
    "plt.xlabel(\"CholCheck\")\n",
    "plt.ylabel('Frequency')\n",
    "plt.show()"
   ]
  },
  {
   "cell_type": "code",
   "execution_count": 15,
   "id": "c6f5eb2c",
   "metadata": {},
   "outputs": [
    {
     "name": "stdout",
     "output_type": "stream",
     "text": [
      "\n",
      "\n",
      "Tabular representation:\n",
      "\n",
      "Diabetes_class  No Diabetes  diabetes  prediabetes \n",
      "Smoker                                             \n",
      "0.0                  121879     17029          2349\n",
      "1.0                   91824     18317          2282\n",
      "\n",
      "\n",
      " Graphical representation:\n"
     ]
    },
    {
     "data": {
      "image/png": "[encoded data removed]",
      "text/plain": [
       "<Figure size 720x288 with 1 Axes>"
      ]
     },
     "metadata": {
      "needs_background": "light"
     },
     "output_type": "display_data"
    }
   ],
   "source": [
    "# Relation between Smoker and Diabetes_012\n",
    "print(\"\\n\\nTabular representation:\\n\")\n",
    "table_values = pd.crosstab(diabetes_df.Smoker,diabetes_df.Diabetes_class)\n",
    "print(table_values)\n",
    "print(\"\\n\\n Graphical representation:\")\n",
    "table_values.plot(kind=\"bar\",figsize=(10,4))\n",
    "plt.title('Diabetes Disease Frequency for Smoker')\n",
    "plt.xlabel(\"Smoker\")\n",
    "plt.ylabel('Frequency')\n",
    "plt.show()"
   ]
  },
  {
   "cell_type": "code",
   "execution_count": 16,
   "id": "19d37466",
   "metadata": {},
   "outputs": [
    {
     "name": "stdout",
     "output_type": "stream",
     "text": [
      "\n",
      "\n",
      "Tabular representation:\n",
      "\n",
      "Diabetes_class  No Diabetes  diabetes  prediabetes \n",
      "Stroke                                             \n",
      "0.0                  206944     32078          4366\n",
      "1.0                    6759      3268           265\n",
      "\n",
      "\n",
      " Graphical representation:\n"
     ]
    },
    {
     "data": {
      "image/png": "[encoded data removed]",
      "text/plain": [
       "<Figure size 720x288 with 1 Axes>"
      ]
     },
     "metadata": {
      "needs_background": "light"
     },
     "output_type": "display_data"
    }
   ],
   "source": [
    "# Relation between Stroke and Diabetes_012\n",
    "print(\"\\n\\nTabular representation:\\n\")\n",
    "table_values = pd.crosstab(diabetes_df.Stroke,diabetes_df.Diabetes_class)\n",
    "print(table_values)\n",
    "print(\"\\n\\n Graphical representation:\")\n",
    "table_values.plot(kind=\"bar\",figsize=(10,4))\n",
    "plt.title('Diabetes Disease Frequency for Stroke')\n",
    "plt.xlabel(\"Stroke\")\n",
    "plt.ylabel('Frequency')\n",
    "plt.show()"
   ]
  },
  {
   "cell_type": "code",
   "execution_count": 17,
   "id": "90ed2474",
   "metadata": {},
   "outputs": [
    {
     "name": "stdout",
     "output_type": "stream",
     "text": [
      "\n",
      "\n",
      "Tabular representation:\n",
      "\n",
      "Diabetes_class        No Diabetes  diabetes  prediabetes \n",
      "HeartDiseaseorAttack                                     \n",
      "0.0                        198352     27468          3967\n",
      "1.0                         15351      7878           664\n",
      "\n",
      "\n",
      " Graphical representation:\n"
     ]
    },
    {
     "data": {
      "image/png": "[encoded data removed]",
      "text/plain": [
       "<Figure size 720x288 with 1 Axes>"
      ]
     },
     "metadata": {
      "needs_background": "light"
     },
     "output_type": "display_data"
    }
   ],
   "source": [
    "# Relation between HeartDiseaseorAttack and Diabetes_012\n",
    "print(\"\\n\\nTabular representation:\\n\")\n",
    "table_values = pd.crosstab(diabetes_df.HeartDiseaseorAttack,diabetes_df.Diabetes_class)\n",
    "print(table_values)\n",
    "print(\"\\n\\n Graphical representation:\")\n",
    "table_values.plot(kind=\"bar\",figsize=(10,4))\n",
    "plt.title('Diabetes Disease Frequency for HeartDiseaseorAttack')\n",
    "plt.xlabel(\"HeartDiseaseorAttack\")\n",
    "plt.ylabel('Frequency')\n",
    "plt.show()"
   ]
  },
  {
   "cell_type": "code",
   "execution_count": 18,
   "id": "f94148cf",
   "metadata": {},
   "outputs": [
    {
     "name": "stdout",
     "output_type": "stream",
     "text": [
      "\n",
      "\n",
      "Tabular representation:\n",
      "\n",
      "Diabetes_class  No Diabetes  diabetes  prediabetes \n",
      "PhysActivity                                       \n",
      "0.0                   47212     13059          1489\n",
      "1.0                  166491     22287          3142\n",
      "\n",
      "\n",
      " Graphical representation:\n"
     ]
    },
    {
     "data": {
      "image/png": "[encoded data removed]",
      "text/plain": [
       "<Figure size 720x288 with 1 Axes>"
      ]
     },
     "metadata": {
      "needs_background": "light"
     },
     "output_type": "display_data"
    }
   ],
   "source": [
    "# Relation between PhysActivity and Diabetes_012\n",
    "print(\"\\n\\nTabular representation:\\n\")\n",
    "table_values = pd.crosstab(diabetes_df.PhysActivity,diabetes_df.Diabetes_class)\n",
    "print(table_values)\n",
    "print(\"\\n\\n Graphical representation:\")\n",
    "table_values.plot(kind=\"bar\",figsize=(10,4))\n",
    "plt.title('Diabetes Disease Frequency for PhysActivity')\n",
    "plt.xlabel(\"PhysActivity\")\n",
    "plt.ylabel('Frequency')\n",
    "plt.show()"
   ]
  },
  {
   "cell_type": "code",
   "execution_count": 19,
   "id": "f90f535e",
   "metadata": {},
   "outputs": [
    {
     "name": "stdout",
     "output_type": "stream",
     "text": [
      "\n",
      "\n",
      "Tabular representation:\n",
      "\n",
      "Diabetes_class  No Diabetes  diabetes  prediabetes \n",
      "Fruits                                             \n",
      "0.0                   76287     14653          1842\n",
      "1.0                  137416     20693          2789\n",
      "\n",
      "\n",
      " Graphical representation:\n"
     ]
    },
    {
     "data": {
      "image/png": "[encoded data removed]",
      "text/plain": [
       "<Figure size 720x288 with 1 Axes>"
      ]
     },
     "metadata": {
      "needs_background": "light"
     },
     "output_type": "display_data"
    }
   ],
   "source": [
    "# Relation between Fruits and Diabetes_012\n",
    "print(\"\\n\\nTabular representation:\\n\")\n",
    "table_values = pd.crosstab(diabetes_df.Fruits,diabetes_df.Diabetes_class)\n",
    "print(table_values)\n",
    "print(\"\\n\\n Graphical representation:\")\n",
    "table_values.plot(kind=\"bar\",figsize=(10,4))\n",
    "plt.title('Diabetes Disease Frequency for Fruits')\n",
    "plt.xlabel(\"Fruits\")\n",
    "plt.ylabel('Frequency')\n",
    "plt.show()"
   ]
  },
  {
   "cell_type": "code",
   "execution_count": 20,
   "id": "ed9d5ed7",
   "metadata": {},
   "outputs": [
    {
     "name": "stdout",
     "output_type": "stream",
     "text": [
      "\n",
      "\n",
      "Tabular representation:\n",
      "\n",
      "Diabetes_class  No Diabetes  diabetes  prediabetes \n",
      "Veggies                                            \n",
      "0.0                   38159      8610          1070\n",
      "1.0                  175544     26736          3561\n",
      "\n",
      "\n",
      " Graphical representation:\n"
     ]
    },
    {
     "data": {
      "image/png": "[encoded data removed]",
      "text/plain": [
       "<Figure size 720x288 with 1 Axes>"
      ]
     },
     "metadata": {
      "needs_background": "light"
     },
     "output_type": "display_data"
    }
   ],
   "source": [
    "# Relation between Veggies and Diabetes_012\n",
    "print(\"\\n\\nTabular representation:\\n\")\n",
    "table_values = pd.crosstab(diabetes_df.Veggies,diabetes_df.Diabetes_class)\n",
    "print(table_values)\n",
    "print(\"\\n\\n Graphical representation:\")\n",
    "table_values.plot(kind=\"bar\",figsize=(10,4))\n",
    "plt.title('Diabetes Disease Frequency for Veggies')\n",
    "plt.xlabel(\"Veggies\")\n",
    "plt.ylabel('Frequency')\n",
    "plt.show()"
   ]
  },
  {
   "cell_type": "code",
   "execution_count": 21,
   "id": "8dea7835",
   "metadata": {},
   "outputs": [
    {
     "name": "stdout",
     "output_type": "stream",
     "text": [
      "\n",
      "\n",
      "Tabular representation:\n",
      "\n",
      "Diabetes_class     No Diabetes  diabetes  prediabetes \n",
      "HvyAlcoholConsump                                     \n",
      "0.0                     200487     34514          4423\n",
      "1.0                      13216       832           208\n",
      "\n",
      "\n",
      " Graphical representation:\n"
     ]
    },
    {
     "data": {
      "image/png": "[encoded data removed]",
      "text/plain": [
       "<Figure size 720x288 with 1 Axes>"
      ]
     },
     "metadata": {
      "needs_background": "light"
     },
     "output_type": "display_data"
    }
   ],
   "source": [
    "# Relation between HvyAlcoholConsump and Diabetes_012\n",
    "print(\"\\n\\nTabular representation:\\n\")\n",
    "table_values = pd.crosstab(diabetes_df.HvyAlcoholConsump,diabetes_df.Diabetes_class)\n",
    "print(table_values)\n",
    "print(\"\\n\\n Graphical representation:\")\n",
    "table_values.plot(kind=\"bar\",figsize=(10,4))\n",
    "plt.title('Diabetes Disease Frequency for HvyAlcoholConsump')\n",
    "plt.xlabel(\"HvyAlcoholConsump\")\n",
    "plt.ylabel('Frequency')\n",
    "plt.show()"
   ]
  },
  {
   "cell_type": "code",
   "execution_count": 22,
   "id": "5617ebb4",
   "metadata": {},
   "outputs": [
    {
     "name": "stdout",
     "output_type": "stream",
     "text": [
      "\n",
      "\n",
      "Tabular representation:\n",
      "\n",
      "Diabetes_class  No Diabetes  diabetes  prediabetes \n",
      "AnyHealthcare                                      \n",
      "0.0                   10741      1422           254\n",
      "1.0                  202962     33924          4377\n",
      "\n",
      "\n",
      " Graphical representation:\n"
     ]
    },
    {
     "data": {
      "image/png": "[encoded data removed]",
      "text/plain": [
       "<Figure size 720x288 with 1 Axes>"
      ]
     },
     "metadata": {
      "needs_background": "light"
     },
     "output_type": "display_data"
    }
   ],
   "source": [
    "# Relation between AnyHealthcare and Diabetes_012\n",
    "print(\"\\n\\nTabular representation:\\n\")\n",
    "table_values = pd.crosstab(diabetes_df.AnyHealthcare,diabetes_df.Diabetes_class)\n",
    "print(table_values)\n",
    "print(\"\\n\\n Graphical representation:\")\n",
    "table_values.plot(kind=\"bar\",figsize=(10,4))\n",
    "plt.title('Diabetes Disease Frequency for AnyHealthcare')\n",
    "plt.xlabel(\"AnyHealthcare\")\n",
    "plt.ylabel('Frequency')\n",
    "plt.show()"
   ]
  },
  {
   "cell_type": "code",
   "execution_count": 23,
   "id": "7fc2d167",
   "metadata": {},
   "outputs": [
    {
     "name": "stdout",
     "output_type": "stream",
     "text": [
      "\n",
      "\n",
      "Tabular representation:\n",
      "\n",
      "Diabetes_class  No Diabetes  diabetes  prediabetes \n",
      "NoDocbcCost                                        \n",
      "0.0                  196690     31604          4032\n",
      "1.0                   17013      3742           599\n",
      "\n",
      "\n",
      " Graphical representation:\n"
     ]
    },
    {
     "data": {
      "image/png": "[encoded data removed]",
      "text/plain": [
       "<Figure size 720x288 with 1 Axes>"
      ]
     },
     "metadata": {
      "needs_background": "light"
     },
     "output_type": "display_data"
    }
   ],
   "source": [
    "# Relation between NoDocbcCost and Diabetes_012\n",
    "print(\"\\n\\nTabular representation:\\n\")\n",
    "table_values = pd.crosstab(diabetes_df.NoDocbcCost,diabetes_df.Diabetes_class)\n",
    "print(table_values)\n",
    "print(\"\\n\\n Graphical representation:\")\n",
    "table_values.plot(kind=\"bar\",figsize=(10,4))\n",
    "plt.title('Diabetes Disease Frequency for NoDocbcCost')\n",
    "plt.xlabel(\"NoDocbcCost\")\n",
    "plt.ylabel('Frequency')\n",
    "plt.show()"
   ]
  },
  {
   "cell_type": "code",
   "execution_count": 24,
   "id": "4d9d275e",
   "metadata": {},
   "outputs": [
    {
     "name": "stdout",
     "output_type": "stream",
     "text": [
      "\n",
      "\n",
      "Tabular representation:\n",
      "\n",
      "Diabetes_class  No Diabetes  diabetes  prediabetes \n",
      "GenHlth                                            \n",
      "1.0                   43846      1140           313\n",
      "2.0                   81489      6381          1214\n",
      "3.0                   60461     13457          1728\n",
      "4.0                   20755      9790          1025\n",
      "5.0                    7152      4578           351\n",
      "\n",
      "\n",
      " Graphical representation:\n"
     ]
    },
    {
     "data": {
      "image/png": "[encoded data removed]",
      "text/plain": [
       "<Figure size 720x288 with 1 Axes>"
      ]
     },
     "metadata": {
      "needs_background": "light"
     },
     "output_type": "display_data"
    }
   ],
   "source": [
    "# Relation between GenHlth and Diabetes_012\n",
    "print(\"\\n\\nTabular representation:\\n\")\n",
    "table_values = pd.crosstab(diabetes_df.GenHlth,diabetes_df.Diabetes_class)\n",
    "print(table_values)\n",
    "print(\"\\n\\n Graphical representation:\")\n",
    "table_values.plot(kind=\"bar\",figsize=(10,4))\n",
    "plt.title('Diabetes Disease Frequency for GenHlth')\n",
    "plt.xlabel(\"GenHlth\")\n",
    "plt.ylabel('Frequency')\n",
    "plt.show()"
   ]
  },
  {
   "cell_type": "code",
   "execution_count": 25,
   "id": "c3bcdc73",
   "metadata": {},
   "outputs": [
    {
     "name": "stdout",
     "output_type": "stream",
     "text": [
      "\n",
      "\n",
      "Tabular representation:\n",
      "\n",
      "Diabetes_class  No Diabetes  diabetes  prediabetes \n",
      "MentHlth                                           \n",
      "0.0                  149321     23403          2956\n",
      "1.0                    7606       812           120\n",
      "2.0                   11315      1508           231\n",
      "3.0                    6332       924           125\n",
      "4.0                    3217       489            83\n",
      "5.0                    7626      1223           181\n",
      "6.0                     796       164            28\n",
      "7.0                    2632       405            63\n",
      "8.0                     516       110            13\n",
      "9.0                      69        13             9\n",
      "10.0                   5170      1064           139\n",
      "11.0                     36         3             2\n",
      "12.0                    321        67            10\n",
      "13.0                     33         8             0\n",
      "14.0                    937       198            32\n",
      "15.0                   4349      1023           133\n",
      "16.0                     73        14             1\n",
      "17.0                     42        11             1\n",
      "18.0                     73        20             4\n",
      "19.0                     12         4             0\n",
      "20.0                   2624       663            77\n",
      "21.0                    170        48             9\n",
      "22.0                     50        11             2\n",
      "23.0                     28         8             2\n",
      "24.0                     25         6             2\n",
      "25.0                    882       273            33\n",
      "26.0                     35         7             3\n",
      "27.0                     66        12             1\n",
      "28.0                    263        57             7\n",
      "29.0                    125        30             3\n",
      "30.0                   8959      2768           361\n",
      "\n",
      "\n",
      " Graphical representation:\n"
     ]
    },
    {
     "data": {
      "image/png": "[encoded data removed]",
      "text/plain": [
       "<Figure size 720x288 with 1 Axes>"
      ]
     },
     "metadata": {
      "needs_background": "light"
     },
     "output_type": "display_data"
    }
   ],
   "source": [
    "# Relation between MentHlth and Diabetes_012\n",
    "print(\"\\n\\nTabular representation:\\n\")\n",
    "table_values = pd.crosstab(diabetes_df.MentHlth,diabetes_df.Diabetes_class)\n",
    "print(table_values)\n",
    "print(\"\\n\\n Graphical representation:\")\n",
    "table_values.plot(kind=\"bar\",figsize=(10,4))\n",
    "plt.title('Diabetes Disease Frequency for MentHlth')\n",
    "plt.xlabel(\"GenHlth\")\n",
    "plt.ylabel('Frequency')\n",
    "plt.show()"
   ]
  },
  {
   "cell_type": "code",
   "execution_count": 26,
   "id": "5f4489c4",
   "metadata": {},
   "outputs": [
    {
     "name": "stdout",
     "output_type": "stream",
     "text": [
      "\n",
      "\n",
      "Tabular representation:\n",
      "\n",
      "Diabetes_class  No Diabetes  diabetes  prediabetes \n",
      "PhysHlth                                           \n",
      "0.0                  140841     16740          2471\n",
      "1.0                   10026      1188           174\n",
      "2.0                   12488      2028           248\n",
      "3.0                    7033      1289           173\n",
      "4.0                    3681       763            98\n",
      "5.0                    6140      1314           168\n",
      "6.0                    1010       282            38\n",
      "7.0                    3705       743            90\n",
      "8.0                     629       159            21\n",
      "9.0                     138        36             5\n",
      "10.0                   4135      1290           170\n",
      "11.0                     45        12             3\n",
      "12.0                    430       129            19\n",
      "13.0                     45        16             7\n",
      "14.0                   2052       473            62\n",
      "15.0                   3480      1295           141\n",
      "16.0                     75        34             3\n",
      "17.0                     66        27             3\n",
      "18.0                    113        35             4\n",
      "19.0                     17         3             2\n",
      "20.0                   2277       917            79\n",
      "21.0                    506       139            18\n",
      "22.0                     43        23             4\n",
      "23.0                     37        16             3\n",
      "24.0                     54        15             3\n",
      "25.0                    906       394            36\n",
      "26.0                     43        22             4\n",
      "27.0                     75        21             3\n",
      "28.0                    363       143            16\n",
      "29.0                    134        74             7\n",
      "30.0                  13116      5726           558\n",
      "\n",
      "\n",
      " Graphical representation:\n"
     ]
    },
    {
     "data": {
      "image/png": "[encoded data removed]",
      "text/plain": [
       "<Figure size 720x288 with 1 Axes>"
      ]
     },
     "metadata": {
      "needs_background": "light"
     },
     "output_type": "display_data"
    }
   ],
   "source": [
    "# Relation between PhysHlth and Diabetes_012\n",
    "print(\"\\n\\nTabular representation:\\n\")\n",
    "table_values = pd.crosstab(diabetes_df.PhysHlth,diabetes_df.Diabetes_class)\n",
    "print(table_values)\n",
    "print(\"\\n\\n Graphical representation:\")\n",
    "table_values.plot(kind=\"bar\",figsize=(10,4))\n",
    "plt.title('Diabetes Disease Frequency for PhysHlth')\n",
    "plt.xlabel(\"PhysHlth\")\n",
    "plt.ylabel('Frequency')\n",
    "plt.show()"
   ]
  },
  {
   "cell_type": "code",
   "execution_count": 27,
   "id": "50a98d36",
   "metadata": {},
   "outputs": [
    {
     "name": "stdout",
     "output_type": "stream",
     "text": [
      "\n",
      "\n",
      "Tabular representation:\n",
      "\n",
      "Diabetes_class  No Diabetes  diabetes  prediabetes \n",
      "Sex                                                \n",
      "0.0                  120959     18411          2604\n",
      "1.0                   92744     16935          2027\n",
      "\n",
      "\n",
      " Graphical representation:\n"
     ]
    },
    {
     "data": {
      "image/png": "[encoded data removed]",
      "text/plain": [
       "<Figure size 720x288 with 1 Axes>"
      ]
     },
     "metadata": {
      "needs_background": "light"
     },
     "output_type": "display_data"
    }
   ],
   "source": [
    "# Relation between Sex and Diabetes_012\n",
    "print(\"\\n\\nTabular representation:\\n\")\n",
    "table_values = pd.crosstab(diabetes_df.Sex,diabetes_df.Diabetes_class)\n",
    "print(table_values)\n",
    "print(\"\\n\\n Graphical representation:\")\n",
    "table_values.plot(kind=\"bar\",figsize=(10,4))\n",
    "plt.title('Diabetes Disease Frequency for Sex')\n",
    "plt.xlabel(\"Sex\")\n",
    "plt.ylabel('Frequency')\n",
    "plt.show()"
   ]
  },
  {
   "cell_type": "code",
   "execution_count": 28,
   "id": "b6323bf1",
   "metadata": {},
   "outputs": [
    {
     "name": "stdout",
     "output_type": "stream",
     "text": [
      "\n",
      "\n",
      "Tabular representation:\n",
      "\n",
      "Diabetes_class  No Diabetes  diabetes  prediabetes \n",
      "Age                                                \n",
      "1.0                    5601        78            21\n",
      "2.0                    7404       140            54\n",
      "3.0                   10737       314            72\n",
      "4.0                   13055       626           142\n",
      "5.0                   14943      1051           163\n",
      "6.0                   17765      1742           312\n",
      "7.0                   22808      3088           418\n",
      "8.0                   26019      4263           550\n",
      "9.0                   26809      5733           702\n",
      "10.0                  24939      6558           697\n",
      "11.0                  17790      5141           602\n",
      "12.0                  12132      3403           445\n",
      "13.0                  13701      3209           453\n",
      "\n",
      "\n",
      " Graphical representation:\n"
     ]
    },
    {
     "data": {
      "image/png": "[encoded data removed]",
      "text/plain": [
       "<Figure size 720x288 with 1 Axes>"
      ]
     },
     "metadata": {
      "needs_background": "light"
     },
     "output_type": "display_data"
    }
   ],
   "source": [
    "# Relation between Age and Diabetes_012\n",
    "print(\"\\n\\nTabular representation:\\n\")\n",
    "table_values = pd.crosstab(diabetes_df.Age,diabetes_df.Diabetes_class)\n",
    "print(table_values)\n",
    "print(\"\\n\\n Graphical representation:\")\n",
    "table_values.plot(kind=\"bar\",figsize=(10,4))\n",
    "plt.title('Diabetes Disease Frequency for Age')\n",
    "plt.xlabel(\"Age\")\n",
    "plt.ylabel('Frequency')\n",
    "plt.show()"
   ]
  },
  {
   "cell_type": "code",
   "execution_count": 29,
   "id": "4a3ddc14",
   "metadata": {},
   "outputs": [
    {
     "name": "stdout",
     "output_type": "stream",
     "text": [
      "\n",
      "\n",
      "Tabular representation:\n",
      "\n",
      "Diabetes_class  No Diabetes  diabetes  prediabetes \n",
      "Education                                          \n",
      "1.0                     125        47             2\n",
      "2.0                    2699      1183           161\n",
      "3.0                    6868      2296           314\n",
      "4.0                   50334     11066          1350\n",
      "5.0                   58223     10354          1333\n",
      "6.0                   95454     10400          1471\n",
      "\n",
      "\n",
      " Graphical representation:\n"
     ]
    },
    {
     "data": {
      "image/png": "[encoded data removed]",
      "text/plain": [
       "<Figure size 720x288 with 1 Axes>"
      ]
     },
     "metadata": {
      "needs_background": "light"
     },
     "output_type": "display_data"
    }
   ],
   "source": [
    "# Relation between Education and Diabetes_012\n",
    "print(\"\\n\\nTabular representation:\\n\")\n",
    "table_values = pd.crosstab(diabetes_df.Education,diabetes_df.Diabetes_class)\n",
    "print(table_values)\n",
    "print(\"\\n\\n Graphical representation:\")\n",
    "table_values.plot(kind=\"bar\",figsize=(10,4))\n",
    "plt.title('Diabetes Disease Frequency for Education')\n",
    "plt.xlabel(\"Education\")\n",
    "plt.ylabel('Frequency')\n",
    "plt.show()"
   ]
  },
  {
   "cell_type": "code",
   "execution_count": 30,
   "id": "11f686a8",
   "metadata": {},
   "outputs": [
    {
     "name": "stdout",
     "output_type": "stream",
     "text": [
      "\n",
      "\n",
      "Tabular representation:\n",
      "\n",
      "Diabetes_class  No Diabetes  diabetes  prediabetes \n",
      "Income                                             \n",
      "1.0                    7114      2383           314\n",
      "2.0                    8341      3086           356\n",
      "3.0                   12005      3568           421\n",
      "4.0                   15622      4054           459\n",
      "5.0                   20792      4504           587\n",
      "6.0                   30431      5291           748\n",
      "7.0                   37219      5265           735\n",
      "8.0                   82179      7195          1011\n",
      "\n",
      "\n",
      " Graphical representation:\n"
     ]
    },
    {
     "data": {
      "image/png": "[encoded data removed]",
      "text/plain": [
       "<Figure size 720x288 with 1 Axes>"
      ]
     },
     "metadata": {
      "needs_background": "light"
     },
     "output_type": "display_data"
    }
   ],
   "source": [
    "# Relation between Income and Diabetes_012\n",
    "print(\"\\n\\nTabular representation:\\n\")\n",
    "table_values = pd.crosstab(diabetes_df.Income,diabetes_df.Diabetes_class)\n",
    "print(table_values)\n",
    "print(\"\\n\\n Graphical representation:\")\n",
    "table_values.plot(kind=\"bar\",figsize=(10,4))\n",
    "plt.title('Diabetes Disease Frequency for Income')\n",
    "plt.xlabel(\"Income\")\n",
    "plt.ylabel('Frequency')\n",
    "plt.show()"
   ]
  },
  {
   "cell_type": "code",
   "execution_count": 31,
   "id": "01321525",
   "metadata": {},
   "outputs": [
    {
     "data": {
      "image/png": "[encoded data removed]",
      "text/plain": [
       "<Figure size 432x288 with 1 Axes>"
      ]
     },
     "metadata": {
      "needs_background": "light"
     },
     "output_type": "display_data"
    },
    {
     "name": "stdout",
     "output_type": "stream",
     "text": [
      "BMI Skewness :  2.122003758291108\n"
     ]
    }
   ],
   "source": [
    "sns.kdeplot(diabetes_df['BMI'], shade = True , color = \"Green\")\n",
    "plt.show()\n",
    "print('BMI Skewness : ',diabetes_df['BMI'].skew())"
   ]
  },
  {
   "cell_type": "markdown",
   "id": "665e410a",
   "metadata": {},
   "source": [
    "<h4><br><br><ins>OBSERVATIONS FROM THE DATA VISUALIZATION</ins></h4>\n",
    "\n",
    "1. From the above data it can be clearly seen that there are no missing values in the data. All the data features are of float64 type\n",
    "2. Most columns CATEGORICAL DATA (binary values).\n",
    "3. Others are encoded to for a bin for a range of values. Fequency for each value for each column can be observed.\n",
    "4. More diabetes cases are found in people with HighChol.\n",
    "5. It is clear that people who had cholesterol check in 5 years have been diagnosed with diabetes. The correlation is high.\n",
    "6. Smoker doesnt not seem to have a big effect on cause of Diabetes. No Correlation.\n",
    "7. This seems to be like data sparsing. Surprisiningly from the data it seems that people who had strokes, chances of diabetes is less. Negatively correlated\n",
    "8. Similar to stroke . Surprisiningly from the data it seems that people who had strokes, chances of diabetes is less. Negatively correlated\n",
    "9. The data shows that number of people doing physical activity is way more than the one's noit doing it. So if we compare the ratio of diabetics in both the cases, it seems that proportion of diabetes in people doing physical activity is less\n",
    "10. The data shows that number of people consuming Fruit is more than the one's not doing it. So if we compare the ratio of diabetics in both the cases, it seems that proportion of diabetes in people consuming Fruit is less\n",
    "11. The data shows that number of people consuming Vegetables is more than the one's not doing it. So if we compare the ratio of diabetics in both the cases, it seems that proportion of diabetes in people consuming Vegetables is less\n",
    "12. Almost NIL diabetes for heavy drinkers . Seems lack of data\n",
    "13. Cases discovered more in people having health care coverage. This could be an indication that people covered under healthcare coverage are getting tested more. Also we may have more biased data from one data source|\n",
    "14. Ratio of diabetic person is mote in people who are have complained about serious difficulty walking or climbing stairs.\n",
    "\n",
    "\n",
    "\n",
    "<b>\n",
    "    From what we see that most of the data are binary data.<br>\n",
    "    All model features are categorical except Body Mass Index (BMI)<br>\n",
    "    Based on the above profiling report health care coverage is weakly correlated to diabetes thus will be excluded from the model features.</b>\n",
    "<br><br>"
   ]
  },
  {
   "cell_type": "markdown",
   "id": "b8bc996e",
   "metadata": {},
   "source": [
    "<h2><br><br><center>3. Data Pre-processing and Cleaning<br><br></center></h2>"
   ]
  },
  {
   "cell_type": "markdown",
   "id": "54fa7e71",
   "metadata": {},
   "source": [
    "<h4><ins><b>Do the appropriate pre-processing of the data like identifying NULL or Missing Values\n",
    "if any, handling of outliers if present in the dataset, skewed data etc. Mention the preprocessing\n",
    "steps performed in the markdown cell with justification<b><ins><h4>"
   ]
  },
  {
   "cell_type": "markdown",
   "id": "221e50f0",
   "metadata": {},
   "source": [
    " <b>Identifying and removing null/NAs in the data set<b>"
   ]
  },
  {
   "cell_type": "code",
   "execution_count": 38,
   "id": "5599324e",
   "metadata": {},
   "outputs": [
    {
     "data": {
      "text/plain": [
       "Diabetes_012            0\n",
       "HighBP                  0\n",
       "HighChol                0\n",
       "CholCheck               0\n",
       "BMI                     0\n",
       "Smoker                  0\n",
       "Stroke                  0\n",
       "HeartDiseaseorAttack    0\n",
       "PhysActivity            0\n",
       "Fruits                  0\n",
       "Veggies                 0\n",
       "HvyAlcoholConsump       0\n",
       "AnyHealthcare           0\n",
       "NoDocbcCost             0\n",
       "GenHlth                 0\n",
       "MentHlth                0\n",
       "PhysHlth                0\n",
       "DiffWalk                0\n",
       "Sex                     0\n",
       "Age                     0\n",
       "Education               0\n",
       "Income                  0\n",
       "Diabetes_class          0\n",
       "dtype: int64"
      ]
     },
     "execution_count": 38,
     "metadata": {},
     "output_type": "execute_result"
    }
   ],
   "source": [
    "diabetes_df.isnull().sum()"
   ]
  },
  {
   "cell_type": "markdown",
   "id": "0c5d76fd",
   "metadata": {},
   "source": [
    "<br><ins>Identifying NULL or Missing Values</ins> : From the above information we see that there are no missing values in the dataset. Hence no null/na treatment is needed. We can go ahead.<br><br>"
   ]
  },
  {
   "cell_type": "markdown",
   "id": "d94ac97e",
   "metadata": {},
   "source": [
    " <b>Identifying and removing duplicates in the data set</b>"
   ]
  },
  {
   "cell_type": "code",
   "execution_count": 39,
   "id": "8e429d12",
   "metadata": {},
   "outputs": [
    {
     "data": {
      "text/plain": [
       "23899"
      ]
     },
     "execution_count": 39,
     "metadata": {},
     "output_type": "execute_result"
    }
   ],
   "source": [
    "diabetes_df.duplicated().sum()"
   ]
  },
  {
   "cell_type": "markdown",
   "id": "87e20fe6",
   "metadata": {},
   "source": [
    "<br><ins>There are 23899 duplicate rows in the dataset</ins>. We are going to drop them keeping only the last occurance of the data point in the data set.<br><br>"
   ]
  },
  {
   "cell_type": "code",
   "execution_count": 40,
   "id": "b512e6e2",
   "metadata": {},
   "outputs": [
    {
     "data": {
      "text/plain": [
       "(253680, 23)"
      ]
     },
     "execution_count": 40,
     "metadata": {},
     "output_type": "execute_result"
    }
   ],
   "source": [
    "#Shape of the input dataframe before removing duplicates\n",
    "diabetes_df.shape"
   ]
  },
  {
   "cell_type": "code",
   "execution_count": 41,
   "id": "14df827f",
   "metadata": {},
   "outputs": [],
   "source": [
    "# Dropping the duplicates from the data set with inplace as True.\n",
    "diabetes_df.drop_duplicates(keep=\"last\", inplace=True)"
   ]
  },
  {
   "cell_type": "code",
   "execution_count": 42,
   "id": "5d5a917f",
   "metadata": {},
   "outputs": [
    {
     "data": {
      "text/plain": [
       "(229781, 23)"
      ]
     },
     "execution_count": 42,
     "metadata": {},
     "output_type": "execute_result"
    }
   ],
   "source": [
    "diabetes_df.shape"
   ]
  },
  {
   "cell_type": "code",
   "execution_count": 43,
   "id": "4784efb7",
   "metadata": {},
   "outputs": [
    {
     "data": {
      "text/plain": [
       "0"
      ]
     },
     "execution_count": 43,
     "metadata": {},
     "output_type": "execute_result"
    }
   ],
   "source": [
    "diabetes_df.duplicated().sum()"
   ]
  },
  {
   "cell_type": "markdown",
   "id": "3db1d9e8",
   "metadata": {},
   "source": [
    "<ins>We see that shape of the datframe is changed with lesser number of rows. Also, we are not getting any duplicated. Hence duplcate values are treated.</ins><br><br>"
   ]
  },
  {
   "cell_type": "markdown",
   "id": "70068d60",
   "metadata": {},
   "source": [
    "<h4><ins>Outlier Analysis</ins></h4>\n",
    "\n",
    "##### What are outliers ? \n",
    "   - An outlier is an observation that is unlike the other observations.\n",
    "   - Outliers can have many causes, such as:\n",
    "           - Measurement or input error.\n",
    "           - Data corruption.\n",
    "           - True outlier observation\n",
    "            \n",
    "There is no precise way to define and identify outliers in general because of the specifics of each dataset. Instead, you, or a domain expert, must interpret the raw observations and decide whether a value is an outlier or not.This does not mean that the values identified are outliers and should be removed. We can imply following ways to treat outliers. \n",
    "      \n",
    "  - *Standard Deviation Method*\n",
    "  - *Interquartile Range Method*\n",
    "      \n",
    "We will see them one by one.\n",
    "\n",
    "\n",
    "#### Standard Deviation Method :\n",
    "\n",
    " If we know that the distribution of values in the sample is Gaussian or Gaussian-like, we can use the standard devation of the sample as a cut-off for identifying outliers.\n",
    "\n",
    "The Gaussian distribution has the property that the standard deviation from the mean can be used to reliably summarize the percentage of values in the sample\n",
    "\n",
    "**Sometimes, the data is standardized first (e.g. to a Z-score with zero mean and unit variance) so that the outlier detection can be performed using standard Z-score cut-off values. This is a convenience and is not required in general, and we will perform the calculations in the original scale of the data here to make things clear.**\n",
    "\n",
    "We can calculate the mean and standard deviation of a given sample, then calculate the cut-off for identifying outliers as more than 3 standard deviations from the mean.4\n",
    "\n",
    "\n",
    "#### Interquartile Range Method :\n",
    "\n",
    "Not all data is normal or normal enough to treat it as being drawn from a Gaussian distribution.\n",
    "\n",
    "A good statistic for summarizing a non-Gaussian distribution sample of data is the Interquartile Range, or IQR for short.\n",
    "\n",
    "The IQR is calculated as the difference between the 75th and the 25th percentiles of the data and defines the box in a box and whisker plot.\n",
    "\n",
    "**Statistics-based outlier detection techniques assume that the normal data points would appear in high probability regions of a stochastic model, while outliers would occur in the low probability regions of a stochastic model.**"
   ]
  },
  {
   "cell_type": "code",
   "execution_count": 44,
   "id": "698b4d87",
   "metadata": {},
   "outputs": [
    {
     "data": {
      "image/png": "[encoded data removed]",
      "text/plain": [
       "<Figure size 1080x1080 with 1 Axes>"
      ]
     },
     "metadata": {
      "needs_background": "light"
     },
     "output_type": "display_data"
    }
   ],
   "source": [
    "#Let's use box plot for initial analysis of the outliers. \n",
    "\n",
    "plt.figure(figsize = (15,15))\n",
    "for i,col in enumerate(['BMI']):\n",
    "    plt.subplot(4,2,i+1)\n",
    "    sns.boxplot(x = col, data = diabetes_df)\n",
    "plt.show()"
   ]
  },
  {
   "cell_type": "markdown",
   "id": "d4de9af2",
   "metadata": {},
   "source": [
    "###### Observation : We observe that most of the outliers are present in  BMI <br><br>"
   ]
  },
  {
   "cell_type": "markdown",
   "id": "96ac3255",
   "metadata": {},
   "source": [
    "<b> We are using <ins>Interquartile Range Method</ins> to perform futher outlier analysis on the data.</b> We have categorized the outputs in twp classes . They are : <br><br>\n",
    "    <ins>1. 'Major' Outliers: </ins> : The data points which breach 3.0 * iqr.<br>\n",
    "    <ins>2. 'Minor' Outliers: </ins> : The data points which breach 1.5 * iqr.<br><br>\n",
    "    \n",
    "We will be doing this only on 'BMI' as rest all features are CATEGORICAL in nature."
   ]
  },
  {
   "cell_type": "code",
   "execution_count": 45,
   "id": "7ab91a3b",
   "metadata": {},
   "outputs": [
    {
     "data": {
      "text/html": [
       "<div>\n",
       "<style scoped>\n",
       "    .dataframe tbody tr th:only-of-type {\n",
       "        vertical-align: middle;\n",
       "    }\n",
       "\n",
       "    .dataframe tbody tr th {\n",
       "        vertical-align: top;\n",
       "    }\n",
       "\n",
       "    .dataframe thead th {\n",
       "        text-align: right;\n",
       "    }\n",
       "</style>\n",
       "<table border=\"1\" class=\"dataframe\">\n",
       "  <thead>\n",
       "    <tr style=\"text-align: right;\">\n",
       "      <th></th>\n",
       "      <th>0</th>\n",
       "    </tr>\n",
       "  </thead>\n",
       "  <tbody>\n",
       "    <tr>\n",
       "      <th>Features</th>\n",
       "      <td>BMI</td>\n",
       "    </tr>\n",
       "    <tr>\n",
       "      <th>Q1</th>\n",
       "      <td>24.0</td>\n",
       "    </tr>\n",
       "    <tr>\n",
       "      <th>Q3</th>\n",
       "      <td>32.0</td>\n",
       "    </tr>\n",
       "    <tr>\n",
       "      <th>Q1-1.5*IQR</th>\n",
       "      <td>12.0</td>\n",
       "    </tr>\n",
       "    <tr>\n",
       "      <th>Q3+1.5*IQR</th>\n",
       "      <td>44.0</td>\n",
       "    </tr>\n",
       "    <tr>\n",
       "      <th>Q1-3*IQR</th>\n",
       "      <td>0.0</td>\n",
       "    </tr>\n",
       "    <tr>\n",
       "      <th>Q3+3*IQR</th>\n",
       "      <td>56.0</td>\n",
       "    </tr>\n",
       "    <tr>\n",
       "      <th>minor_outlier_lower</th>\n",
       "      <td>0</td>\n",
       "    </tr>\n",
       "    <tr>\n",
       "      <th>minor_outlier_upper</th>\n",
       "      <td>5638</td>\n",
       "    </tr>\n",
       "    <tr>\n",
       "      <th>major_outlier_lower</th>\n",
       "      <td>0</td>\n",
       "    </tr>\n",
       "    <tr>\n",
       "      <th>major_outlier_upper</th>\n",
       "      <td>1079</td>\n",
       "    </tr>\n",
       "    <tr>\n",
       "      <th>Minor_outlier_lower_bound_pct</th>\n",
       "      <td>0.0</td>\n",
       "    </tr>\n",
       "    <tr>\n",
       "      <th>Minor_outlier_upper_bound_pct</th>\n",
       "      <td>2.453641</td>\n",
       "    </tr>\n",
       "    <tr>\n",
       "      <th>Major_outlier_lower_bound_pct</th>\n",
       "      <td>0.0</td>\n",
       "    </tr>\n",
       "    <tr>\n",
       "      <th>Major_outlier_upper_bound_pct</th>\n",
       "      <td>0.469578</td>\n",
       "    </tr>\n",
       "  </tbody>\n",
       "</table>\n",
       "</div>"
      ],
      "text/plain": [
       "                                      0\n",
       "Features                            BMI\n",
       "Q1                                 24.0\n",
       "Q3                                 32.0\n",
       "Q1-1.5*IQR                         12.0\n",
       "Q3+1.5*IQR                         44.0\n",
       "Q1-3*IQR                            0.0\n",
       "Q3+3*IQR                           56.0\n",
       "minor_outlier_lower                   0\n",
       "minor_outlier_upper                5638\n",
       "major_outlier_lower                   0\n",
       "major_outlier_upper                1079\n",
       "Minor_outlier_lower_bound_pct       0.0\n",
       "Minor_outlier_upper_bound_pct  2.453641\n",
       "Major_outlier_lower_bound_pct       0.0\n",
       "Major_outlier_upper_bound_pct  0.469578"
      ]
     },
     "execution_count": 45,
     "metadata": {},
     "output_type": "execute_result"
    }
   ],
   "source": [
    "def getOutlierScores(param_diabetes_df) :\n",
    "    q1 = []\n",
    "    q3 = []\n",
    "    minor_outlier_upper = []\n",
    "    minor_outlier_lower = []\n",
    "    major_outlier_lower = []\n",
    "    major_outlier_upper = []\n",
    "    minor_outlier_lower_bound = []\n",
    "    minor_outlier_upper_bound = []\n",
    "    major_outlier_lower_bound = []\n",
    "    major_outlier_upper_bound = []\n",
    "    major_outlier_upper_bound = []\n",
    "    cont_column_names = ['BMI']\n",
    "\n",
    "    for col_names in cont_column_names:\n",
    "        q3                         = param_diabetes_df[col_names].quantile(0.75)\n",
    "        q1                         = param_diabetes_df[col_names].quantile(0.25)\n",
    "        iqr                        = q3-q1 \n",
    "\n",
    "        minor_outlier_thresh_upper = q3+1.5*iqr\n",
    "        minor_outlier_thresh_lower = q1-1.5*iqr\n",
    "\n",
    "        major_outlier_thresh_upper = q3+3*iqr\n",
    "        major_outlier_thresh_lower = q1-3*iqr\n",
    "\n",
    "        minor_outlier_upper.append(round((sum(np.where(param_diabetes_df[col_names]>minor_outlier_thresh_upper,1,0))),4))\n",
    "        minor_outlier_lower.append(round((sum(np.where(param_diabetes_df[col_names]<minor_outlier_thresh_lower,1,0))),4))\n",
    "\n",
    "        major_outlier_upper.append(round((sum(np.where(param_diabetes_df[col_names]>major_outlier_thresh_upper,1,0))),4))\n",
    "        major_outlier_lower.append(round((sum(np.where(param_diabetes_df[col_names]<major_outlier_thresh_lower,1,0))),4))\n",
    "\n",
    "        minor_outlier_lower_bound.append(minor_outlier_thresh_lower)\n",
    "        minor_outlier_upper_bound.append(minor_outlier_thresh_upper)\n",
    "\n",
    "        major_outlier_lower_bound.append(major_outlier_thresh_lower)\n",
    "        major_outlier_upper_bound.append(major_outlier_thresh_upper)\n",
    "\n",
    "\n",
    "    outlier_df = pd.DataFrame(cont_column_names,columns=['Features'])\n",
    "\n",
    "    outlier_df['Q1']                    = q1\n",
    "    outlier_df['Q3']                    = q3\n",
    "    outlier_df['Q1-1.5*IQR']                    = minor_outlier_lower_bound\n",
    "    outlier_df['Q3+1.5*IQR']                    = minor_outlier_upper_bound\n",
    "    outlier_df['Q1-3*IQR']                    = major_outlier_lower_bound\n",
    "    outlier_df['Q3+3*IQR']                    = major_outlier_upper_bound\n",
    "\n",
    "    outlier_df['minor_outlier_lower']                    = minor_outlier_lower\n",
    "    outlier_df['minor_outlier_upper']                    = minor_outlier_upper\n",
    "    outlier_df['major_outlier_lower']                    = major_outlier_lower\n",
    "    outlier_df['major_outlier_upper']                    = major_outlier_upper\n",
    "\n",
    "    outlier_df['Minor_outlier_lower_bound_pct'] = 100*np.array(minor_outlier_lower)/param_diabetes_df.shape[0]\n",
    "    outlier_df['Minor_outlier_upper_bound_pct'] = 100*np.array(minor_outlier_upper)/param_diabetes_df.shape[0]\n",
    "\n",
    "\n",
    "    outlier_df['Major_outlier_lower_bound_pct'] = 100*np.array(major_outlier_lower)/param_diabetes_df.shape[0]\n",
    "    outlier_df['Major_outlier_upper_bound_pct'] = 100*np.array(major_outlier_upper)/param_diabetes_df.shape[0]\n",
    "    return outlier_df\n",
    "\n",
    "outlier_table = getOutlierScores(diabetes_df)\n",
    "outlier_table.T"
   ]
  },
  {
   "cell_type": "markdown",
   "id": "8570e3fd",
   "metadata": {},
   "source": [
    "<b> From the table above, we see that there are 1079 'major' outliers in BMI. </b>  <br>\n",
    "\n",
    "<ins><b>Treatment:</b></ins>  Will can afford to drop those data points from the dataset as we have large number of data points."
   ]
  },
  {
   "cell_type": "code",
   "execution_count": 46,
   "id": "7c6e570d",
   "metadata": {},
   "outputs": [
    {
     "name": "stdout",
     "output_type": "stream",
     "text": [
      "1079\n"
     ]
    }
   ],
   "source": [
    "q3                         = diabetes_df.BMI.quantile(0.75)\n",
    "q1                         = diabetes_df.BMI.quantile(0.25)\n",
    "iqr                        = q3-q1 \n",
    "major_outlier_thresh_upper = q3+3*iqr\n",
    "bmi_outliers = diabetes_df.BMI>major_outlier_thresh_upper\n",
    "outliers_labels = []\n",
    "for index, isOutlier in enumerate(bmi_outliers):\n",
    "    if isOutlier:\n",
    "        outliers_labels.append(index)\n",
    "print(len(outliers_labels))\n",
    "\n",
    "diabetes_df = diabetes_df.drop(diabetes_df.index[outliers_labels])"
   ]
  },
  {
   "cell_type": "markdown",
   "id": "e5ba6b39",
   "metadata": {},
   "source": [
    "<b> At this point we have removed the data points which constituted of MAJOR outliers. Also, as the data is highly imbalanced we need to perform some balancing tasks while we are going with the Modeling.</b>  <br>"
   ]
  },
  {
   "cell_type": "markdown",
   "id": "a1845d46",
   "metadata": {},
   "source": [
    "<h4><ins>SKEWNESS Analysis</ins></h4><br>\n",
    "\n",
    "   <b>It makes no sense for doing analaysis categorical attributes. We will be doing the skewness analysis on relatively continous data such as BMI.</b>\n",
    "  <br>"
   ]
  },
  {
   "cell_type": "code",
   "execution_count": 47,
   "id": "d12a8514",
   "metadata": {},
   "outputs": [
    {
     "data": {
      "image/png": "[encoded data removed]",
      "text/plain": [
       "<Figure size 432x288 with 1 Axes>"
      ]
     },
     "metadata": {
      "needs_background": "light"
     },
     "output_type": "display_data"
    },
    {
     "name": "stdout",
     "output_type": "stream",
     "text": [
      "BMI  :  0.9908838182304736\n"
     ]
    }
   ],
   "source": [
    " for col in ['BMI']:\n",
    "    sns.kdeplot(diabetes_df[col], shade = True , color = \"Green\")\n",
    "    plt.show()\n",
    "    print(col ,\" : \",diabetes_df[col].skew())"
   ]
  },
  {
   "cell_type": "markdown",
   "id": "bbf596c5",
   "metadata": {},
   "source": [
    "<ins><br>We see that BMI is sligly skewed but it has shown a drastic improvement after handling out outliers. We will try to apply some normalisation technique.</ins><br><br>"
   ]
  },
  {
   "cell_type": "markdown",
   "id": "7d489a75",
   "metadata": {},
   "source": [
    "<h4><ins><b><br><br>Apply appropriate feature engineering techniques for them. Apply the feature transformation techniques like Standardization, Normalization, etc. You are free to apply the appropriate transformations depending upon the structure and  the complexity of your dataset. Provide proper justification.<b><ins><h4>"
   ]
  },
  {
   "cell_type": "markdown",
   "id": "052f61de",
   "metadata": {},
   "source": [
    "<b> Please note , we will be performing below activities as part of pre processing: </b><br>\n",
    "        1. Normalise the continiuous attributes <br>\n",
    "        2. Standardize the continuous attibutes, using standard scaler.  <br>\n",
    "        3. Check for the important features using RandomForestClassifier. <br><br><br>"
   ]
  },
  {
   "cell_type": "code",
   "execution_count": 48,
   "id": "bf819f77",
   "metadata": {},
   "outputs": [
    {
     "data": {
      "text/html": [
       "<div>\n",
       "<style scoped>\n",
       "    .dataframe tbody tr th:only-of-type {\n",
       "        vertical-align: middle;\n",
       "    }\n",
       "\n",
       "    .dataframe tbody tr th {\n",
       "        vertical-align: top;\n",
       "    }\n",
       "\n",
       "    .dataframe thead th {\n",
       "        text-align: right;\n",
       "    }\n",
       "</style>\n",
       "<table border=\"1\" class=\"dataframe\">\n",
       "  <thead>\n",
       "    <tr style=\"text-align: right;\">\n",
       "      <th></th>\n",
       "      <th>Diabetes_012</th>\n",
       "      <th>HighBP</th>\n",
       "      <th>HighChol</th>\n",
       "      <th>CholCheck</th>\n",
       "      <th>BMI</th>\n",
       "      <th>Smoker</th>\n",
       "      <th>Stroke</th>\n",
       "      <th>HeartDiseaseorAttack</th>\n",
       "      <th>PhysActivity</th>\n",
       "      <th>Fruits</th>\n",
       "      <th>...</th>\n",
       "      <th>NoDocbcCost</th>\n",
       "      <th>GenHlth</th>\n",
       "      <th>MentHlth</th>\n",
       "      <th>PhysHlth</th>\n",
       "      <th>DiffWalk</th>\n",
       "      <th>Sex</th>\n",
       "      <th>Age</th>\n",
       "      <th>Education</th>\n",
       "      <th>Income</th>\n",
       "      <th>Diabetes_class</th>\n",
       "    </tr>\n",
       "  </thead>\n",
       "  <tbody>\n",
       "    <tr>\n",
       "      <th>0</th>\n",
       "      <td>0.0</td>\n",
       "      <td>1.0</td>\n",
       "      <td>1.0</td>\n",
       "      <td>1.0</td>\n",
       "      <td>40.0</td>\n",
       "      <td>1.0</td>\n",
       "      <td>0.0</td>\n",
       "      <td>0.0</td>\n",
       "      <td>0.0</td>\n",
       "      <td>0.0</td>\n",
       "      <td>...</td>\n",
       "      <td>0.0</td>\n",
       "      <td>5.0</td>\n",
       "      <td>18.0</td>\n",
       "      <td>15.0</td>\n",
       "      <td>1.0</td>\n",
       "      <td>0.0</td>\n",
       "      <td>9.0</td>\n",
       "      <td>4.0</td>\n",
       "      <td>3.0</td>\n",
       "      <td>No Diabetes</td>\n",
       "    </tr>\n",
       "    <tr>\n",
       "      <th>1</th>\n",
       "      <td>0.0</td>\n",
       "      <td>0.0</td>\n",
       "      <td>0.0</td>\n",
       "      <td>0.0</td>\n",
       "      <td>25.0</td>\n",
       "      <td>1.0</td>\n",
       "      <td>0.0</td>\n",
       "      <td>0.0</td>\n",
       "      <td>1.0</td>\n",
       "      <td>0.0</td>\n",
       "      <td>...</td>\n",
       "      <td>1.0</td>\n",
       "      <td>3.0</td>\n",
       "      <td>0.0</td>\n",
       "      <td>0.0</td>\n",
       "      <td>0.0</td>\n",
       "      <td>0.0</td>\n",
       "      <td>7.0</td>\n",
       "      <td>6.0</td>\n",
       "      <td>1.0</td>\n",
       "      <td>No Diabetes</td>\n",
       "    </tr>\n",
       "    <tr>\n",
       "      <th>2</th>\n",
       "      <td>0.0</td>\n",
       "      <td>1.0</td>\n",
       "      <td>1.0</td>\n",
       "      <td>1.0</td>\n",
       "      <td>28.0</td>\n",
       "      <td>0.0</td>\n",
       "      <td>0.0</td>\n",
       "      <td>0.0</td>\n",
       "      <td>0.0</td>\n",
       "      <td>1.0</td>\n",
       "      <td>...</td>\n",
       "      <td>1.0</td>\n",
       "      <td>5.0</td>\n",
       "      <td>30.0</td>\n",
       "      <td>30.0</td>\n",
       "      <td>1.0</td>\n",
       "      <td>0.0</td>\n",
       "      <td>9.0</td>\n",
       "      <td>4.0</td>\n",
       "      <td>8.0</td>\n",
       "      <td>No Diabetes</td>\n",
       "    </tr>\n",
       "    <tr>\n",
       "      <th>3</th>\n",
       "      <td>0.0</td>\n",
       "      <td>1.0</td>\n",
       "      <td>0.0</td>\n",
       "      <td>1.0</td>\n",
       "      <td>27.0</td>\n",
       "      <td>0.0</td>\n",
       "      <td>0.0</td>\n",
       "      <td>0.0</td>\n",
       "      <td>1.0</td>\n",
       "      <td>1.0</td>\n",
       "      <td>...</td>\n",
       "      <td>0.0</td>\n",
       "      <td>2.0</td>\n",
       "      <td>0.0</td>\n",
       "      <td>0.0</td>\n",
       "      <td>0.0</td>\n",
       "      <td>0.0</td>\n",
       "      <td>11.0</td>\n",
       "      <td>3.0</td>\n",
       "      <td>6.0</td>\n",
       "      <td>No Diabetes</td>\n",
       "    </tr>\n",
       "    <tr>\n",
       "      <th>4</th>\n",
       "      <td>0.0</td>\n",
       "      <td>1.0</td>\n",
       "      <td>1.0</td>\n",
       "      <td>1.0</td>\n",
       "      <td>24.0</td>\n",
       "      <td>0.0</td>\n",
       "      <td>0.0</td>\n",
       "      <td>0.0</td>\n",
       "      <td>1.0</td>\n",
       "      <td>1.0</td>\n",
       "      <td>...</td>\n",
       "      <td>0.0</td>\n",
       "      <td>2.0</td>\n",
       "      <td>3.0</td>\n",
       "      <td>0.0</td>\n",
       "      <td>0.0</td>\n",
       "      <td>0.0</td>\n",
       "      <td>11.0</td>\n",
       "      <td>5.0</td>\n",
       "      <td>4.0</td>\n",
       "      <td>No Diabetes</td>\n",
       "    </tr>\n",
       "  </tbody>\n",
       "</table>\n",
       "<p>5 rows × 23 columns</p>\n",
       "</div>"
      ],
      "text/plain": [
       "   Diabetes_012  HighBP  HighChol  CholCheck   BMI  Smoker  Stroke  \\\n",
       "0           0.0     1.0       1.0        1.0  40.0     1.0     0.0   \n",
       "1           0.0     0.0       0.0        0.0  25.0     1.0     0.0   \n",
       "2           0.0     1.0       1.0        1.0  28.0     0.0     0.0   \n",
       "3           0.0     1.0       0.0        1.0  27.0     0.0     0.0   \n",
       "4           0.0     1.0       1.0        1.0  24.0     0.0     0.0   \n",
       "\n",
       "   HeartDiseaseorAttack  PhysActivity  Fruits  ...  NoDocbcCost  GenHlth  \\\n",
       "0                   0.0           0.0     0.0  ...          0.0      5.0   \n",
       "1                   0.0           1.0     0.0  ...          1.0      3.0   \n",
       "2                   0.0           0.0     1.0  ...          1.0      5.0   \n",
       "3                   0.0           1.0     1.0  ...          0.0      2.0   \n",
       "4                   0.0           1.0     1.0  ...          0.0      2.0   \n",
       "\n",
       "   MentHlth  PhysHlth  DiffWalk  Sex   Age  Education  Income  Diabetes_class  \n",
       "0      18.0      15.0       1.0  0.0   9.0        4.0     3.0     No Diabetes  \n",
       "1       0.0       0.0       0.0  0.0   7.0        6.0     1.0     No Diabetes  \n",
       "2      30.0      30.0       1.0  0.0   9.0        4.0     8.0     No Diabetes  \n",
       "3       0.0       0.0       0.0  0.0  11.0        3.0     6.0     No Diabetes  \n",
       "4       3.0       0.0       0.0  0.0  11.0        5.0     4.0     No Diabetes  \n",
       "\n",
       "[5 rows x 23 columns]"
      ]
     },
     "execution_count": 48,
     "metadata": {},
     "output_type": "execute_result"
    }
   ],
   "source": [
    "diabetes_df.head()"
   ]
  },
  {
   "cell_type": "code",
   "execution_count": 49,
   "id": "caa1a132",
   "metadata": {},
   "outputs": [
    {
     "data": {
      "text/html": [
       "<div>\n",
       "<style scoped>\n",
       "    .dataframe tbody tr th:only-of-type {\n",
       "        vertical-align: middle;\n",
       "    }\n",
       "\n",
       "    .dataframe tbody tr th {\n",
       "        vertical-align: top;\n",
       "    }\n",
       "\n",
       "    .dataframe thead th {\n",
       "        text-align: right;\n",
       "    }\n",
       "</style>\n",
       "<table border=\"1\" class=\"dataframe\">\n",
       "  <thead>\n",
       "    <tr style=\"text-align: right;\">\n",
       "      <th></th>\n",
       "      <th>Diabetes_012</th>\n",
       "      <th>HighBP</th>\n",
       "      <th>HighChol</th>\n",
       "      <th>CholCheck</th>\n",
       "      <th>BMI</th>\n",
       "      <th>Smoker</th>\n",
       "      <th>Stroke</th>\n",
       "      <th>HeartDiseaseorAttack</th>\n",
       "      <th>PhysActivity</th>\n",
       "      <th>Fruits</th>\n",
       "      <th>...</th>\n",
       "      <th>NoDocbcCost</th>\n",
       "      <th>GenHlth</th>\n",
       "      <th>MentHlth</th>\n",
       "      <th>PhysHlth</th>\n",
       "      <th>DiffWalk</th>\n",
       "      <th>Sex</th>\n",
       "      <th>Age</th>\n",
       "      <th>Education</th>\n",
       "      <th>Income</th>\n",
       "      <th>Diabetes_class</th>\n",
       "    </tr>\n",
       "  </thead>\n",
       "  <tbody>\n",
       "    <tr>\n",
       "      <th>253675</th>\n",
       "      <td>0.0</td>\n",
       "      <td>1.0</td>\n",
       "      <td>1.0</td>\n",
       "      <td>1.0</td>\n",
       "      <td>45.0</td>\n",
       "      <td>0.0</td>\n",
       "      <td>0.0</td>\n",
       "      <td>0.0</td>\n",
       "      <td>0.0</td>\n",
       "      <td>1.0</td>\n",
       "      <td>...</td>\n",
       "      <td>0.0</td>\n",
       "      <td>3.0</td>\n",
       "      <td>0.0</td>\n",
       "      <td>5.0</td>\n",
       "      <td>0.0</td>\n",
       "      <td>1.0</td>\n",
       "      <td>5.0</td>\n",
       "      <td>6.0</td>\n",
       "      <td>7.0</td>\n",
       "      <td>No Diabetes</td>\n",
       "    </tr>\n",
       "    <tr>\n",
       "      <th>253676</th>\n",
       "      <td>2.0</td>\n",
       "      <td>1.0</td>\n",
       "      <td>1.0</td>\n",
       "      <td>1.0</td>\n",
       "      <td>18.0</td>\n",
       "      <td>0.0</td>\n",
       "      <td>0.0</td>\n",
       "      <td>0.0</td>\n",
       "      <td>0.0</td>\n",
       "      <td>0.0</td>\n",
       "      <td>...</td>\n",
       "      <td>0.0</td>\n",
       "      <td>4.0</td>\n",
       "      <td>0.0</td>\n",
       "      <td>0.0</td>\n",
       "      <td>1.0</td>\n",
       "      <td>0.0</td>\n",
       "      <td>11.0</td>\n",
       "      <td>2.0</td>\n",
       "      <td>4.0</td>\n",
       "      <td>diabetes</td>\n",
       "    </tr>\n",
       "    <tr>\n",
       "      <th>253677</th>\n",
       "      <td>0.0</td>\n",
       "      <td>0.0</td>\n",
       "      <td>0.0</td>\n",
       "      <td>1.0</td>\n",
       "      <td>28.0</td>\n",
       "      <td>0.0</td>\n",
       "      <td>0.0</td>\n",
       "      <td>0.0</td>\n",
       "      <td>1.0</td>\n",
       "      <td>1.0</td>\n",
       "      <td>...</td>\n",
       "      <td>0.0</td>\n",
       "      <td>1.0</td>\n",
       "      <td>0.0</td>\n",
       "      <td>0.0</td>\n",
       "      <td>0.0</td>\n",
       "      <td>0.0</td>\n",
       "      <td>2.0</td>\n",
       "      <td>5.0</td>\n",
       "      <td>2.0</td>\n",
       "      <td>No Diabetes</td>\n",
       "    </tr>\n",
       "    <tr>\n",
       "      <th>253678</th>\n",
       "      <td>0.0</td>\n",
       "      <td>1.0</td>\n",
       "      <td>0.0</td>\n",
       "      <td>1.0</td>\n",
       "      <td>23.0</td>\n",
       "      <td>0.0</td>\n",
       "      <td>0.0</td>\n",
       "      <td>0.0</td>\n",
       "      <td>0.0</td>\n",
       "      <td>1.0</td>\n",
       "      <td>...</td>\n",
       "      <td>0.0</td>\n",
       "      <td>3.0</td>\n",
       "      <td>0.0</td>\n",
       "      <td>0.0</td>\n",
       "      <td>0.0</td>\n",
       "      <td>1.0</td>\n",
       "      <td>7.0</td>\n",
       "      <td>5.0</td>\n",
       "      <td>1.0</td>\n",
       "      <td>No Diabetes</td>\n",
       "    </tr>\n",
       "    <tr>\n",
       "      <th>253679</th>\n",
       "      <td>2.0</td>\n",
       "      <td>1.0</td>\n",
       "      <td>1.0</td>\n",
       "      <td>1.0</td>\n",
       "      <td>25.0</td>\n",
       "      <td>0.0</td>\n",
       "      <td>0.0</td>\n",
       "      <td>1.0</td>\n",
       "      <td>1.0</td>\n",
       "      <td>1.0</td>\n",
       "      <td>...</td>\n",
       "      <td>0.0</td>\n",
       "      <td>2.0</td>\n",
       "      <td>0.0</td>\n",
       "      <td>0.0</td>\n",
       "      <td>0.0</td>\n",
       "      <td>0.0</td>\n",
       "      <td>9.0</td>\n",
       "      <td>6.0</td>\n",
       "      <td>2.0</td>\n",
       "      <td>diabetes</td>\n",
       "    </tr>\n",
       "  </tbody>\n",
       "</table>\n",
       "<p>5 rows × 23 columns</p>\n",
       "</div>"
      ],
      "text/plain": [
       "        Diabetes_012  HighBP  HighChol  CholCheck   BMI  Smoker  Stroke  \\\n",
       "253675           0.0     1.0       1.0        1.0  45.0     0.0     0.0   \n",
       "253676           2.0     1.0       1.0        1.0  18.0     0.0     0.0   \n",
       "253677           0.0     0.0       0.0        1.0  28.0     0.0     0.0   \n",
       "253678           0.0     1.0       0.0        1.0  23.0     0.0     0.0   \n",
       "253679           2.0     1.0       1.0        1.0  25.0     0.0     0.0   \n",
       "\n",
       "        HeartDiseaseorAttack  PhysActivity  Fruits  ...  NoDocbcCost  GenHlth  \\\n",
       "253675                   0.0           0.0     1.0  ...          0.0      3.0   \n",
       "253676                   0.0           0.0     0.0  ...          0.0      4.0   \n",
       "253677                   0.0           1.0     1.0  ...          0.0      1.0   \n",
       "253678                   0.0           0.0     1.0  ...          0.0      3.0   \n",
       "253679                   1.0           1.0     1.0  ...          0.0      2.0   \n",
       "\n",
       "        MentHlth  PhysHlth  DiffWalk  Sex   Age  Education  Income  \\\n",
       "253675       0.0       5.0       0.0  1.0   5.0        6.0     7.0   \n",
       "253676       0.0       0.0       1.0  0.0  11.0        2.0     4.0   \n",
       "253677       0.0       0.0       0.0  0.0   2.0        5.0     2.0   \n",
       "253678       0.0       0.0       0.0  1.0   7.0        5.0     1.0   \n",
       "253679       0.0       0.0       0.0  0.0   9.0        6.0     2.0   \n",
       "\n",
       "        Diabetes_class  \n",
       "253675     No Diabetes  \n",
       "253676        diabetes  \n",
       "253677     No Diabetes  \n",
       "253678     No Diabetes  \n",
       "253679        diabetes  \n",
       "\n",
       "[5 rows x 23 columns]"
      ]
     },
     "execution_count": 49,
     "metadata": {},
     "output_type": "execute_result"
    }
   ],
   "source": [
    "diabetes_df.tail()"
   ]
  },
  {
   "cell_type": "code",
   "execution_count": 50,
   "id": "12da3b60",
   "metadata": {},
   "outputs": [
    {
     "data": {
      "text/plain": [
       "0.0    189279\n",
       "2.0     34819\n",
       "1.0      4604\n",
       "Name: Diabetes_012, dtype: int64"
      ]
     },
     "execution_count": 50,
     "metadata": {},
     "output_type": "execute_result"
    }
   ],
   "source": [
    "diabetes_df.Diabetes_012.value_counts()"
   ]
  },
  {
   "cell_type": "code",
   "execution_count": null,
   "id": "be25cb7b-49bc-44a6-be4e-432b1a855338",
   "metadata": {},
   "outputs": [],
   "source": []
  }
 ],
 "metadata": {
  "kernelspec": {
   "display_name": "Python 3 (ipykernel)",
   "language": "python",
   "name": "python3"
  },
  "language_info": {
   "codemirror_mode": {
    "name": "ipython",
    "version": 3
   },
   "file_extension": ".py",
   "mimetype": "text/x-python",
   "name": "python",
   "nbconvert_exporter": "python",
   "pygments_lexer": "ipython3",
   "version": "3.9.12"
  }
 },
 "nbformat": 4,
 "nbformat_minor": 5
}
